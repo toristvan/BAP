{
 "cells": [
  {
   "cell_type": "markdown",
   "metadata": {},
   "source": [
    "## Before submitting\n",
    "1. Before you turn this problem in, make sure everything runs as expected. First, **restart the kernel** (in the menubar, select Kernel$\\rightarrow$Restart) and then **run all cells** (in the menubar, select Cell$\\rightarrow$Run All).\n",
    "\n",
    "2. Make sure that no assertions fail or exceptions occur, otherwise points will be subtracted.\n",
    "\n",
    "4. Please submit only the `*.ipynb` file.\n",
    "\n",
    "5. Make sure you fill in any place that says `YOUR CODE HERE` or \"YOUR ANSWER HERE\". Edit only between `YOUR CODE HERE` and `END YOUR CODE`.\n",
    "\n",
    "6. Make sure to use Python 3, not Python 2.\n",
    "\n",
    "Fill your group name and collaborators below:"
   ]
  },
  {
   "cell_type": "code",
   "execution_count": null,
   "metadata": {},
   "outputs": [],
   "source": [
    "GROUPNAME = \"\"\n",
    "COLLABORATORS = \"\""
   ]
  },
  {
   "cell_type": "markdown",
   "metadata": {},
   "source": [
    "### Task:\n",
    "\n",
    "In this exercise we'll perform bayesian analysis on some toy data drawn from the **Exponential** distribution with the given rate. \n",
    "\n",
    "For this reason _posterior, marginal_ as well as _predictive_ distribution have to be computed, assumed that the _prior_ distribution over the exponential rate parameter is **Gamma**."
   ]
  },
  {
   "cell_type": "markdown",
   "metadata": {},
   "source": [
    "### Exercise 1.1: (5 pts) \n",
    "\n",
    "In this exercise you've to generate some toy data from **_Exponential_** distiribution given a **_rate_** = 0.35\n",
    "\n",
    "Sample and sort 100 datapoints using **_expon_** function from _scipy.stats_ package (already imported).\n",
    "\n",
    "**Note:** _scale_ is an inverse _rate_ value !"
   ]
  },
  {
   "cell_type": "code",
   "execution_count": null,
   "metadata": {},
   "outputs": [],
   "source": [
    "import numpy as np\n",
    "import numpy.random as rnd\n",
    "import matplotlib.pyplot as plt\n",
    "import matplotlib\n",
    "%matplotlib inline\n",
    "from scipy.stats import gamma, expon\n",
    "expon.random_state = 42\n",
    "gamma.random_stat = 42\n",
    "np.random.seed(42)"
   ]
  },
  {
   "cell_type": "code",
   "execution_count": null,
   "metadata": {},
   "outputs": [],
   "source": [
    "# Toy data generation\n",
    "rate = 0.35 # True rate\n",
    "scale = 1./rate # scale it's an inverse rate\n",
    "\n",
    "#YOUR CODE HERE"
   ]
  },
  {
   "cell_type": "markdown",
   "metadata": {},
   "source": [
    "### Exercise 1.2: (5 pts)\n",
    "\n",
    "Create an histogram **density** plot for the generated data (number of bins = 20, width=80%, transparency=50%). \n",
    "\n",
    "Add the KDE (kernel-density estimated) plot from the **_seaborn_** package (already imported).\n",
    "\n",
    "Your plot should look like:\n",
    "\n",
    "<img src='hist.png'/>"
   ]
  },
  {
   "cell_type": "code",
   "execution_count": null,
   "metadata": {
    "scrolled": true
   },
   "outputs": [],
   "source": [
    "import seaborn as sns\n",
    "# Histogram plot \n",
    "\n",
    "#YOUR CODE HERE\n",
    "\n",
    "plt.legend()\n",
    "_=plt.grid()"
   ]
  },
  {
   "cell_type": "markdown",
   "metadata": {},
   "source": [
    "### Exercise 2.1: (5 pts)\n",
    "\n",
    "* Implement a robust Exponential probability density function (PDF).\n",
    "\n",
    "**Note:** robust means all of the intermediate steps performed in the **_log-space_** however an exponentiated result is returned. "
   ]
  },
  {
   "cell_type": "markdown",
   "metadata": {},
   "source": [
    "### Model distribution (Exponential)\n",
    "<center>\n",
    "$\\large{\n",
    " p(x | \\lambda) = \\text{Exp}(\\lambda) =  \\lambda\\exp{(-\\lambda x)} \n",
    "}$</center>"
   ]
  },
  {
   "cell_type": "markdown",
   "metadata": {},
   "source": [
    "<center>\n",
    "$\\large{  \n",
    " \\mathbb{E}[x]_{x \\sim \\text{Exp}(\\lambda)}= \\frac{1}{\\lambda}\n",
    "}$</center>\n",
    "    <hr>"
   ]
  },
  {
   "cell_type": "code",
   "execution_count": null,
   "metadata": {},
   "outputs": [],
   "source": [
    "from numpy import log,exp\n",
    "def exp_pdf(X,lambd):\n",
    "    # YOUR CODE HERE"
   ]
  },
  {
   "cell_type": "markdown",
   "metadata": {},
   "source": [
    "### Exercise 2.2: (10 pts)\n",
    "\n",
    "* Plot the Exponential PDF for the given rate values, colors and the region (see below). \n",
    "\n",
    "\n",
    "* Depict the true exectation values for each of the PDFs.\n",
    "\n",
    "Your plot should look like:\n",
    "\n",
    "<img src='exp_pdf.png'/>"
   ]
  },
  {
   "cell_type": "code",
   "execution_count": null,
   "metadata": {},
   "outputs": [],
   "source": [
    "rates = np.array([0.2, 0.5, 1, 2])\n",
    "colors = ['r', 'g', 'b', 'k']\n",
    "region = np.linspace(0,6,100)"
   ]
  },
  {
   "cell_type": "code",
   "execution_count": null,
   "metadata": {
    "scrolled": false
   },
   "outputs": [],
   "source": [
    "plt.figure(figsize=(4,4))\n",
    "plt.title('Exponential density function')\n",
    "for n,rate in enumerate(rates):\n",
    "    \n",
    "    # YOUR CODE HERE\n",
    "    \n",
    "plt.xticks(np.arange(0,5.6,0.5))\n",
    "plt.xlim(0,6)\n",
    "plt.ylim(0,2)\n",
    "plt.xlabel('x',fontsize=12)\n",
    "plt.ylabel('pdf(x)',fontsize=12)\n",
    "_=plt.legend(fontsize=12)"
   ]
  },
  {
   "cell_type": "markdown",
   "metadata": {},
   "source": [
    "### Exercise 2.3: (5 pts)\n",
    "\n",
    "* Draw from the **_expon_** function enough samples such that the empirical mean is close to the true expectaton values for each of the rates."
   ]
  },
  {
   "cell_type": "code",
   "execution_count": null,
   "metadata": {},
   "outputs": [],
   "source": [
    "expectations = 1/rates\n",
    "emp_means = []\n",
    "N = # YOUR CODE HERE\n",
    "for lambd in rates:\n",
    "    \n",
    "    # YOUR CODE HERE\n",
    "    "
   ]
  },
  {
   "cell_type": "code",
   "execution_count": null,
   "metadata": {},
   "outputs": [],
   "source": [
    "assert np.allclose(expectations, emp_means , atol=1e-2)"
   ]
  },
  {
   "cell_type": "markdown",
   "metadata": {},
   "source": [
    "### Exercise 3.1: (10 pts)\n",
    "\n",
    "* Implement the robust Gamma PDF with the **shape ($\\alpha$)** and **rate ($\\beta$)** parameters. \n",
    "\n",
    "\n",
    "* Use $\\log{\\Gamma(x)}$ function called **_loggamma_** from _scipy.special_ package (already imported).\n",
    "\n",
    "\n",
    "* Check that the distibution parameters are strictly positive. \n",
    "\n",
    "**Note:** robust means all of the intermediate steps performed in the **_log-space_** however an exponentiated result is returned."
   ]
  },
  {
   "cell_type": "markdown",
   "metadata": {},
   "source": [
    "### Prior distribution (Gamma)\n",
    "<center>\n",
    "$\\large{\n",
    "p(\\lambda | \\alpha, \\beta ) = \\frac{\\beta^{\\alpha}}{\\Gamma{(\\alpha)}} \\lambda^{\\alpha-1}\\exp{(-\\beta\\lambda)}\n",
    "}$"
   ]
  },
  {
   "cell_type": "code",
   "execution_count": null,
   "metadata": {},
   "outputs": [],
   "source": [
    "from scipy.special import loggamma as lgam\n",
    "from numpy import log\n",
    "\n",
    "def gamma_pdf(lambd, alpha, beta=1):\n",
    "    \n",
    "    # YOUR CODE HERE\n",
    "    "
   ]
  },
  {
   "cell_type": "markdown",
   "metadata": {},
   "source": [
    "### Exercise 3.2: (15 pts)\n",
    "\n",
    "* Plot the Gamma PDF for the 1000 datapoints sampled from the **_gamma_** function from the _scipy.stats_ package (already imported) with the given parameters **$\\alpha$** and **$\\beta$** and colors. \n",
    "\n",
    "\n",
    "* Extend it with the **_histogramm density_** plot with 50 bins each and 40 % transparency.\n",
    "\n",
    "\n",
    "* Compute and plot the empirical mean over the sampled datapoints for each of the parameters.\n",
    "\n",
    "Your plot should look like:\n",
    "\n",
    "<img src=\"gam_hist.png\"/>"
   ]
  },
  {
   "cell_type": "code",
   "execution_count": null,
   "metadata": {
    "scrolled": true
   },
   "outputs": [],
   "source": [
    "from matplotlib import cm\n",
    "alpha_beta = [(1,0.1),(1,0.3),(1,0.5),(4,2),(8,2),(16,2)]\n",
    "colors = ['r','g','b','y','k','c']\n",
    "N_samples = 1000"
   ]
  },
  {
   "cell_type": "code",
   "execution_count": null,
   "metadata": {},
   "outputs": [],
   "source": [
    "fig, axs = plt.subplots(2, 3, sharey=True,sharex=True, figsize = (12,8))\n",
    "n = 0\n",
    "for i in range(2):\n",
    "    for j in range(3):\n",
    "        ax = axs[i,j]\n",
    "        \n",
    "        # YOUR CODE HERE\n",
    "        \n",
    "        ax.set_xlim(0,20)\n",
    "        ax.axvline(smpls.mean(), ls='--', color=colors[n], label=f'mean: {mn:0.3}')\n",
    "        ax.plot(0, 0, alpha=0, label=f'$\\\\alpha=${alpha} $\\\\beta=${beta}')\n",
    "        ax.legend()\n",
    "        n+=1\n",
    "_=axs[0,1].set_title('Gamma histogramm plot', fontsize=15)"
   ]
  },
  {
   "cell_type": "markdown",
   "metadata": {},
   "source": [
    "### Exercise 4.1: (5 pts)\n",
    "\n",
    "* Evaluate the *posterior* distribution given the model distribution is **Exponential** and *prior* is **Gamma** with paramters $\\alpha$ and $\\beta$. \n",
    "\n",
    "\n",
    "* Find the posterior parameters called $\\hat{\\alpha}$ and $\\hat{\\beta}$."
   ]
  },
  {
   "cell_type": "markdown",
   "metadata": {},
   "source": [
    "#### Posterior distribution"
   ]
  },
  {
   "cell_type": "markdown",
   "metadata": {},
   "source": [
    "<center>\n",
    "    $\\large{\n",
    "    p(\\lambda|X,\\alpha,\\beta) = \\overbrace{p(X|\\lambda)p(\\lambda|\\alpha,\\beta)}^{\\text{product rule}} = \\overbrace{\\text{Exp}(\\lambda)}^{\\text{likelihood}}\\ \\overbrace{\\text{Gamma}(\\alpha,\\beta)}^{\\text{prior}}\n",
    "     \\\\\n",
    "    \\quad \\qquad \\quad \\text{ YOUR ANSWER HERE}\n",
    "    }$\n",
    "</center>\n",
    "<br>"
   ]
  },
  {
   "cell_type": "markdown",
   "metadata": {},
   "source": [
    "<center>\n",
    "    $\\large{\n",
    "    p(\\lambda|X,\\alpha,\\beta) = \\text{Gamma}(\\hat{\\alpha}, \\hat{\\beta}),\\  \\text{where} \\\\ \\quad \\boxed{ \\hat{\\alpha} = ?, \\quad \\hat{\\beta} = ?}\n",
    "    }$\n",
    "</center>"
   ]
  },
  {
   "cell_type": "markdown",
   "metadata": {},
   "source": [
    "### Exercise 4.2: (5 pts)\n",
    "\n",
    "* Implement the posterior PDF as a function of the generated datapoints called $X_{tr}$ and prior parameters $\\alpha$ and $\\beta$.\n",
    "\n",
    "\n",
    "* Check that all of the input parameters are strictly positive. (Use e.g **assert** python statement)"
   ]
  },
  {
   "cell_type": "code",
   "execution_count": null,
   "metadata": {},
   "outputs": [],
   "source": [
    "def posterior(X, X_tr,alpha,beta):\n",
    "    \n",
    "    # YOUR CODE HERE\n",
    "    "
   ]
  },
  {
   "cell_type": "markdown",
   "metadata": {},
   "source": [
    "### Exercise 4.3: (5 pts)\n",
    "\n",
    "* Plot posterior PDF within the given **space range** for all of the prior paramters $\\alpha$ and $\\beta$.\n",
    "\n",
    "\n",
    "* Compute and depist the Bayes estimator $\\mathbb{E}[\\lambda]$.\n",
    "\n",
    "Your plot should look like:\n",
    "\n",
    "<img src='post.png'/>"
   ]
  },
  {
   "cell_type": "code",
   "execution_count": null,
   "metadata": {},
   "outputs": [],
   "source": [
    "space_range = np.linspace(0.1,1,500)"
   ]
  },
  {
   "cell_type": "code",
   "execution_count": null,
   "metadata": {},
   "outputs": [],
   "source": [
    "fig, axs = plt.subplots(2, 3, sharey=True, sharex=True,figsize = (12,8))\n",
    "n = 0\n",
    "Exs = []\n",
    "for i in range(2):\n",
    "    for j in range(3):\n",
    "        ax = axs[i,j]\n",
    "        alpha,beta = alpha_beta[n]\n",
    "        \n",
    "        # YOUR CODE HERE\n",
    "        \n",
    "        ax.grid(axis='x')\n",
    "        ax.set_xlim(0.2,0.8)\n",
    "        ax.legend()\n",
    "        n+=1\n",
    "_=axs[0,1].set_title('Posterior density function', fontsize=15)"
   ]
  },
  {
   "cell_type": "markdown",
   "metadata": {},
   "source": [
    "### Exercise 4.3: (5 pts)\n",
    "\n",
    "* Evaluate the *marginal* likelihood given the model distribution is **Exponential** and *prior* is **Gamma** with paramters $\\alpha$ and $\\beta$. "
   ]
  },
  {
   "cell_type": "markdown",
   "metadata": {},
   "source": [
    "#### Marginal likelihood\n",
    "\n",
    "<center>\n",
    "    $\\large{\n",
    "    p(X|\\alpha,\\beta) = \\int \\overbrace{p(X,\\lambda|\\alpha,\\beta)}^{\\text{marginalization}}\\ d\\lambda = \\int \\overbrace{p(X|\\lambda)}^{\\text{likelihood}} \\underbrace{p(\\lambda|\\alpha,\\beta)}_{\\text{prior}}\\ d\\lambda \n",
    "    }$"
   ]
  },
  {
   "cell_type": "markdown",
   "metadata": {},
   "source": [
    "<center>\n",
    "    $\\large{ \n",
    "         p(X|\\alpha,\\beta) =  \\text{YOUR ANSWER HERE}\n",
    "    }$"
   ]
  },
  {
   "cell_type": "markdown",
   "metadata": {},
   "source": [
    "### Exercise 4.4: (5 pts)\n",
    "\n",
    "* Implement the robust marginal PDF as a function of the given datapoints $X_{tr}$ and prior parameters $\\alpha$ and $\\beta$ \n",
    "\n",
    "**Note:** robust means all of the intermediate steps performed in the **_log-space_** however an exponentiated result is returned."
   ]
  },
  {
   "cell_type": "code",
   "execution_count": null,
   "metadata": {},
   "outputs": [],
   "source": [
    "def marginal(X,alpha,beta):\n",
    "    \n",
    "    # YOUR CODE HERE\n",
    "    "
   ]
  },
  {
   "cell_type": "markdown",
   "metadata": {},
   "source": [
    "### Exercise 4.5: (5 pts) \n",
    "\n",
    "* Perform the Bayesian model selection:\n",
    "\n",
    "\n",
    "    * Compute the marginal likelihood for all of the given prior parameters $\\alpha$ and $\\beta$.\n",
    "\n",
    "    * Find the _best_ prior parameters, which gives the highest marginal likelihood value. \n",
    "    \n",
    "    * Find the Bayes estimator given the best prior parameters"
   ]
  },
  {
   "cell_type": "code",
   "execution_count": null,
   "metadata": {},
   "outputs": [],
   "source": [
    "marginals = []\n",
    "for alpha,beta in alpha_beta:\n",
    "    \n",
    "    # YOUR CODE HERE\n",
    "\n",
    "# YOUR CODE HERE\n",
    "\n",
    "print(\"best alpha:\",best_alpha)\n",
    "print(\"best beta:\",best_beta)\n",
    "print(f\"Bayes estimator: {bayes_est:0.3}\", )"
   ]
  },
  {
   "cell_type": "markdown",
   "metadata": {},
   "source": [
    "### Exercise 4.6: (5 pts)\n",
    "\n",
    "* Plot the all of the marginal likelihood values and depict the best $\\alpha$ and $\\beta$ prior values.\n",
    "\n",
    "Your plot should look like:\n",
    "\n",
    "<img src=\"marginal.png\">"
   ]
  },
  {
   "cell_type": "code",
   "execution_count": null,
   "metadata": {},
   "outputs": [],
   "source": [
    "plt.title('Model selection')\n",
    "plt.xlabel('alpha_beta index')\n",
    "plt.ylabel('marginal likelihood')\n",
    "plt.plot(0,0,alpha=0,label=f'best $\\\\alpha=${best_alpha} $\\\\beta=${best_beta}$')\n",
    "plt.legend()\n",
    "plt.grid(axis='x')\n",
    "\n",
    "# YOUR CODE HERE'"
   ]
  },
  {
   "cell_type": "markdown",
   "metadata": {},
   "source": [
    "### Exercise 5.1: (5 pts)\n",
    "\n",
    "* Evaluate the predictive distribution as a function of the given datapoints $X_{tr}$ and prior parameters $\\alpha$ and $\\beta$."
   ]
  },
  {
   "cell_type": "markdown",
   "metadata": {},
   "source": [
    "#### Predictive distribution"
   ]
  },
  {
   "cell_type": "markdown",
   "metadata": {},
   "source": [
    "<center>\n",
    "$\\large{\n",
    "    p(x|X,\\alpha,\\beta) = \\int \\overbrace{\\underbrace{p(x|\\lambda)}_{\\text{likelihood}}\\underbrace{p(\\lambda|X,\\alpha,\\beta)}_{\\text{posterior}}}^{\\text{marginalization + product rule}} d\\lambda = \\\\ \\text{ YOUR ANSWER HERE}\n",
    "}$ <br>\n",
    "   "
   ]
  },
  {
   "cell_type": "markdown",
   "metadata": {},
   "source": [
    "<center>\n",
    "$\\large{\n",
    "\\boxed{\\widetilde{\\alpha} = ?, \\quad \\widetilde{\\beta} = ? }\n",
    "}$"
   ]
  },
  {
   "cell_type": "markdown",
   "metadata": {},
   "source": [
    "### Exercise 5.2: (5 pts)\n",
    "\n",
    "* Implement the predictive PDF called **pred_dist** as a function of the given datapoints $X_{tr}$ and prior parameters $\\alpha$ and $\\beta$."
   ]
  },
  {
   "cell_type": "code",
   "execution_count": null,
   "metadata": {},
   "outputs": [],
   "source": [
    "def pred_dist(x,X,alpha,beta):\n",
    "    \n",
    "   # YOUR CODE HERE\n"
   ]
  },
  {
   "cell_type": "markdown",
   "metadata": {},
   "source": [
    "### Exercise 5.3: (5 pts)\n",
    "\n",
    "* Plot the predictive distribution within the given **space range** for the best prior parameters.\n",
    "\n",
    "Your plot should look like:\n",
    "\n",
    "<img src=\"predictive.png\">"
   ]
  },
  {
   "cell_type": "code",
   "execution_count": null,
   "metadata": {},
   "outputs": [],
   "source": [
    "space_range = np.linspace(0.1,15,100)"
   ]
  },
  {
   "cell_type": "code",
   "execution_count": null,
   "metadata": {},
   "outputs": [],
   "source": [
    "\n",
    "# YOUR CODE HERE\n",
    "\n",
    "plt.title('Predictive distribution',fontsize=15)\n",
    "plt.xlim(0,15)\n",
    "plt.grid(axis='x')\n",
    "plt.xticks(np.arange(0,16))\n",
    "_=plt.legend()"
   ]
  }
 ],
 "metadata": {
  "kernelspec": {
   "display_name": "Python 3",
   "language": "python",
   "name": "python3"
  },
  "language_info": {
   "codemirror_mode": {
    "name": "ipython",
    "version": 3
   },
   "file_extension": ".py",
   "mimetype": "text/x-python",
   "name": "python",
   "nbconvert_exporter": "python",
   "pygments_lexer": "ipython3",
   "version": "3.7.3"
  }
 },
 "nbformat": 4,
 "nbformat_minor": 2
}
