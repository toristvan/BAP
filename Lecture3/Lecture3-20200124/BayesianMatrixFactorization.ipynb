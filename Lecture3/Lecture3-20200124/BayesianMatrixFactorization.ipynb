{
 "cells": [
  {
   "cell_type": "markdown",
   "metadata": {},
   "source": [
    "### Bayesian Matrix Factorization"
   ]
  },
  {
   "cell_type": "code",
   "execution_count": 1,
   "metadata": {},
   "outputs": [],
   "source": [
    "import numpy as np\n",
    "import numpy.random as rnd\n",
    "import numpy.linalg as la\n",
    "%matplotlib inline"
   ]
  },
  {
   "cell_type": "markdown",
   "metadata": {},
   "source": [
    "### Toy data generation"
   ]
  },
  {
   "cell_type": "code",
   "execution_count": 2,
   "metadata": {},
   "outputs": [],
   "source": [
    "np.random.seed(42)\n",
    "\n",
    "# Number of rows\n",
    "L = 200\n",
    "# Number of columns\n",
    "M = 300\n",
    "# Number of true hidden dimensions\n",
    "H_ = 20 "
   ]
  },
  {
   "cell_type": "code",
   "execution_count": 3,
   "metadata": {},
   "outputs": [
    {
     "data": {
      "text/plain": [
       "((300, 20),\n",
       " array([ 9.04961743, 10.3590825 , 10.4791307 ,  9.3342627 , 10.38924473,\n",
       "        10.43505176, 10.25384223,  9.94180516,  8.45868375,  9.5129113 ,\n",
       "         9.1728604 , 11.58040925,  8.7595023 , 10.12451662, 10.42922374,\n",
       "        11.39614155, 10.50007971, 10.6035817 ,  9.32842362,  8.73981345]))"
      ]
     },
     "execution_count": 3,
     "metadata": {},
     "output_type": "execute_result"
    }
   ],
   "source": [
    "# variance value for matrix A features\n",
    "c_a = 10\n",
    "# Set mean and covariance\n",
    "mu_a = np.zeros(H_)\n",
    "cov_a = c_a*np.eye(H_)\n",
    "# Draw matrix A\n",
    "A_ = rnd.multivariate_normal(mu_a, cov_a, size = M)\n",
    "A_.shape, A_.var(0)"
   ]
  },
  {
   "cell_type": "code",
   "execution_count": 4,
   "metadata": {},
   "outputs": [
    {
     "data": {
      "text/plain": [
       "((200, 20), array([6.05240214, 4.29656712, 4.79860874, 5.00501828, 5.12393624,\n",
       "        5.22251173, 5.21014146, 5.27408902, 5.12683731, 3.94778469,\n",
       "        5.42757565, 5.00618059, 4.85111056, 4.49695536, 4.86032671,\n",
       "        5.13743426, 5.62505817, 5.83731213, 5.83549215, 4.62177007]))"
      ]
     },
     "execution_count": 4,
     "metadata": {},
     "output_type": "execute_result"
    }
   ],
   "source": [
    "# variance value for matrix B features\n",
    "c_b = 5\n",
    "# Set mean and covariance\n",
    "mu_b = np.zeros(H_)\n",
    "cov_b = c_b*np.eye(H_)\n",
    "# Draw matrix B\n",
    "B_ = rnd.multivariate_normal(mu_b, cov_b, size = L)\n",
    "B_.shape, B_.var(0)"
   ]
  },
  {
   "cell_type": "code",
   "execution_count": 5,
   "metadata": {},
   "outputs": [
    {
     "data": {
      "text/plain": [
       "((200, 300), 20)"
      ]
     },
     "execution_count": 5,
     "metadata": {},
     "output_type": "execute_result"
    }
   ],
   "source": [
    "X = B_ @ A_.T # shape -> (M,N)\n",
    "X.shape, la.matrix_rank(X)"
   ]
  },
  {
   "cell_type": "code",
   "execution_count": 6,
   "metadata": {},
   "outputs": [
    {
     "data": {
      "text/plain": [
       "200"
      ]
     },
     "execution_count": 6,
     "metadata": {},
     "output_type": "execute_result"
    }
   ],
   "source": [
    "# Adding some gaussian noise\n",
    "sigma = 4\n",
    "X += rnd.normal(0,sigma,size=(L,M))\n",
    "# rank becomes min(H,M)\n",
    "la.matrix_rank(X)"
   ]
  },
  {
   "cell_type": "markdown",
   "metadata": {},
   "source": [
    "### Singular Value Decomposition\n",
    "<br>\n",
    "<center>\n",
    "    $\\boxed{\\large{\n",
    "    \\Omega_L,\\Sigma,\\Omega_R = \\text{svd}(V)\n",
    "    }}$"
   ]
  },
  {
   "cell_type": "code",
   "execution_count": 9,
   "metadata": {},
   "outputs": [
    {
     "data": {
      "image/png": "[encoded data removed]",
      "text/plain": [
       "<Figure size 432x288 with 1 Axes>"
      ]
     },
     "metadata": {
      "needs_background": "light"
     },
     "output_type": "display_data"
    }
   ],
   "source": [
    "import matplotlib.pyplot as plt\n",
    "\n",
    "# 200,200, 200   200,300\n",
    "Left,      S,    Right = la.svd(X, full_matrices=False)\n",
    "\n",
    "X_hat = Left @ np.diag(S) @ Right \n",
    "\n",
    "assert np.allclose( X , X_hat)\n",
    "plt.figure(figsize = (6,4))\n",
    "plt.plot(np.arange(len(S)),S,'o--')\n",
    "plt.yscale('log')\n",
    "plt.grid()\n",
    "plt.show()"
   ]
  },
  {
   "cell_type": "markdown",
   "metadata": {},
   "source": [
    "### Variational Bayesian Matrix Factorization Model\n",
    "\n",
    "<img src=\"VMF.png\" width=500/>"
   ]
  },
  {
   "cell_type": "markdown",
   "metadata": {},
   "source": [
    "### Initialize A, B, Sigma_A, Sigma_B, C_A, C_B"
   ]
  },
  {
   "cell_type": "code",
   "execution_count": 11,
   "metadata": {},
   "outputs": [
    {
     "data": {
      "text/plain": [
       "1035.4253648806991"
      ]
     },
     "execution_count": 11,
     "metadata": {},
     "output_type": "execute_result"
    }
   ],
   "source": [
    "H = min(X.shape)\n",
    "\n",
    "C_A = np.eye(H)\n",
    "C_B = np.copy(C_A)\n",
    "\n",
    "Sigma_A = np.copy(C_A)\n",
    "Sigma_B = np.copy(C_B)\n",
    "\n",
    "A = rnd.normal(0,1,size = (M,H))\n",
    "B = rnd.normal(0,1,size = (L,H))\n",
    "\n",
    "#Init sigma as normalized squared Frobenius norm of the data\n",
    "\n",
    "sigma2 = la.norm(X)**2/(L*M)\n",
    "sigma2"
   ]
  },
  {
   "cell_type": "markdown",
   "metadata": {},
   "source": [
    "<center>\n",
    "    $\\boxed{\\large{\n",
    "    \\hat{\\Sigma}_A = \\sigma^2\\Big( \\hat{B}^{\\top}\\hat{B} + L\\hat\\Sigma_B + \\sigma^2C_A^{-1}\\Big)^{-1}\n",
    "    }}\n",
    "    $"
   ]
  },
  {
   "cell_type": "code",
   "execution_count": 12,
   "metadata": {},
   "outputs": [
    {
     "data": {
      "text/plain": [
       "(200, 200)"
      ]
     },
     "execution_count": 12,
     "metadata": {},
     "output_type": "execute_result"
    }
   ],
   "source": [
    "def update_Sigma_A():\n",
    "    Sigma_A = sigma2*la.inv(B.T @ B + L*Sigma_B + sigma2*np.linalg.inv(C_A))\n",
    "    return Sigma_A\n",
    "update_Sigma_A().shape"
   ]
  },
  {
   "cell_type": "markdown",
   "metadata": {},
   "source": [
    "<center>\n",
    "    $\\boxed{\\large{\n",
    "    \\hat{A} = X^{\\top}\\hat{B}\\frac{\\hat{\\Sigma}_{A}}{\\sigma^2}\n",
    "    }}$"
   ]
  },
  {
   "cell_type": "code",
   "execution_count": 14,
   "metadata": {},
   "outputs": [
    {
     "data": {
      "text/plain": [
       "(300, 200)"
      ]
     },
     "execution_count": 14,
     "metadata": {},
     "output_type": "execute_result"
    }
   ],
   "source": [
    "def update_A():\n",
    "    A = X.T @ B @ Sigma_A/sigma2\n",
    "    return A\n",
    "update_A().shape"
   ]
  },
  {
   "cell_type": "markdown",
   "metadata": {},
   "source": [
    "<center>\n",
    "    $\\boxed{\\large{\n",
    "    \\hat{\\Sigma}_B = \\sigma^2\\Big( \\hat{A}^{\\top}\\hat{A} + M\\hat\\Sigma_A + \\sigma^2C_B^{-1}\\Big)^{-1}\n",
    "    }}\n",
    "    $"
   ]
  },
  {
   "cell_type": "code",
   "execution_count": 15,
   "metadata": {},
   "outputs": [
    {
     "data": {
      "text/plain": [
       "(200, 200)"
      ]
     },
     "execution_count": 15,
     "metadata": {},
     "output_type": "execute_result"
    }
   ],
   "source": [
    "def update_Sigma_B():\n",
    "    Sigma_B = sigma2*la.inv(A.T @ A + M*Sigma_A + sigma2*np.linalg.inv(C_B))\n",
    "    return Sigma_B\n",
    "update_Sigma_B().shape"
   ]
  },
  {
   "cell_type": "markdown",
   "metadata": {},
   "source": [
    "<center>\n",
    "    $\\boxed{\\large{\n",
    "    \\hat{B} = X\\hat{A}\\frac{\\hat{\\Sigma}_{B}}{\\sigma^2}\n",
    "    }}$"
   ]
  },
  {
   "cell_type": "code",
   "execution_count": 17,
   "metadata": {},
   "outputs": [
    {
     "data": {
      "text/plain": [
       "(200, 200)"
      ]
     },
     "execution_count": 17,
     "metadata": {},
     "output_type": "execute_result"
    }
   ],
   "source": [
    "def update_B():\n",
    "    B = X @ A @ Sigma_B/sigma2\n",
    "    return B\n",
    "update_B().shape"
   ]
  },
  {
   "cell_type": "markdown",
   "metadata": {},
   "source": [
    "### Update variance paramters for A\n",
    "<br>\n",
    "<center>\n",
    "$\n",
    "\\boxed{\\large{c^2_{a_h} = \\frac{||\\hat{a}_h ||^2}{M} + (\\hat{\\Sigma}_A)_{h,h}}\n",
    "}$"
   ]
  },
  {
   "cell_type": "code",
   "execution_count": 18,
   "metadata": {},
   "outputs": [],
   "source": [
    "def update_C_A():\n",
    "    #      M,H -> H                 H\n",
    "    C_A = (A**2).mean(0) + np.diag(Sigma_A) \n",
    "    return np.diag(C_A)"
   ]
  },
  {
   "cell_type": "markdown",
   "metadata": {},
   "source": [
    "### Update variance paramters for B\n",
    "<br>\n",
    "<center>\n",
    "$\n",
    "\\boxed{\\large{c^2_{b_h} = \\frac{||\\hat{b}_h ||^2}{L} + (\\hat{\\Sigma}_B)_{h,h}}}\n",
    "$"
   ]
  },
  {
   "cell_type": "code",
   "execution_count": 19,
   "metadata": {},
   "outputs": [],
   "source": [
    "def update_C_B():\n",
    "    C_B = (B**2).mean(0) + np.diag(Sigma_B)\n",
    "    return np.diag(C_B)"
   ]
  },
  {
   "cell_type": "markdown",
   "metadata": {},
   "source": [
    "### Update noise variance\n",
    "<br><hr>\n",
    "<center>\n",
    "$\\boxed{\\large{\n",
    "\\sigma^2 = \\frac{||V||^2_{Fro} - 2\\text{tr}\\Big( X^{\\top}\\hat B \\hat{A}^{\\top}\\Big) + \\text{tr}\\Big( (A^{\\top}A + M\\hat{\\Sigma}_A) (\\hat{B}^{\\top}\\hat B + L\\hat \\Sigma_{B})\\Big) \n",
    "}{LM}\n",
    "}}$    <br><hr>"
   ]
  },
  {
   "cell_type": "code",
   "execution_count": 34,
   "metadata": {},
   "outputs": [],
   "source": [
    "def update_sigma2():\n",
    "    sigma2 = la.norm(X)**2\n",
    "    sigma2 -= 2*np.trace(X.T @ B @ A.T)\n",
    "    sigma2 += np.trace( (A.T @ A + M * Sigma_A) @ (B.T @ B + L * Sigma_B ) )\n",
    "    return sigma2/(L*M)"
   ]
  },
  {
   "cell_type": "markdown",
   "metadata": {},
   "source": [
    "### Variational Free Energy\n",
    "<br><hr>\n",
    "<center>\n",
    "    $\\large{\n",
    "    2F = LM\\ln(2\\pi\\sigma^2) + \\frac{|| X - \\hat B\\hat A^{\\top} ||^2_{Fro}}{\\sigma^2} + M\\frac{\\log\\text{det}(C_A)}{\\log\\text{det}(\\hat\\Sigma_A)}+ L\\frac{\\log\\text{det}(C_B)}{\\log\\text{det}(\\hat\\Sigma_B)} - (L+M)H \\\\ +  \n",
    "    \\text{tr}\\Big( C_A^{-1} (A^{\\top}A + M\\hat{\\Sigma}_A) + C_B^{-1} (\\hat{B}^{\\top}\\hat B + L\\hat \\Sigma_{B})\\Big) \\\\ + \\frac{\\text{tr}\\Big( -A^{\\top}A\\hat{B}^{\\top}\\hat B + (A^{\\top}A + M\\hat{\\Sigma}_A) (\\hat{B}^{\\top}\\hat B + L\\hat \\Sigma_{B}) \\Big)}{\\sigma^2} \n",
    "    }$ <br><hr>"
   ]
  },
  {
   "cell_type": "code",
   "execution_count": 35,
   "metadata": {},
   "outputs": [],
   "source": [
    "def free_energy():\n",
    "    F = L*M*np.log(2*np.pi*sigma2) + la.norm(X - B @ A.T)**2/sigma2 + \\\n",
    "    M*(np.prod(la.slogdet(C_A)) - np.prod(la.slogdet(Sigma_A)))     + \\\n",
    "    L*(np.prod(la.slogdet(C_B)) - np.prod(la.slogdet(Sigma_B)))     - \\\n",
    "    (L + M)*H + np.trace(la.inv(C_A) @ (A.T @ A + M*Sigma_A))       + \\\n",
    "    np.trace(la.inv(C_B) @ (B.T @ B + L*Sigma_B))                   + \\\n",
    "    np.trace(- A.T @ A @ B.T @ B + (A.T @ A + M*Sigma_A) @ (B.T @ B + L*Sigma_B))/sigma2\n",
    "    return F/2"
   ]
  },
  {
   "cell_type": "code",
   "execution_count": 36,
   "metadata": {},
   "outputs": [],
   "source": [
    "def check_energy(F,update_name=\"\"):\n",
    "    if len(F) > 1:\n",
    "        prev = F[-2]\n",
    "        curr = F[-1]\n",
    "        if curr - prev > 1e-2:\n",
    "            txt = f\"Wrong Energy @ {update_name} Energy diff: {(curr-prev):0.3f}\"\n",
    "            raise SystemExit(txt)"
   ]
  },
  {
   "cell_type": "code",
   "execution_count": 37,
   "metadata": {},
   "outputs": [
    {
     "name": "stderr",
     "output_type": "stream",
     "text": [
      "  1%|          | 6/500 [00:00<00:23, 20.72it/s]"
     ]
    },
    {
     "name": "stdout",
     "output_type": "stream",
     "text": [
      "Energy: 291453.64\n"
     ]
    },
    {
     "name": "stderr",
     "output_type": "stream",
     "text": [
      " 15%|█▌        | 77/500 [00:01<00:08, 49.45it/s]"
     ]
    },
    {
     "name": "stdout",
     "output_type": "stream",
     "text": [
      "New H_opt: 71\n",
      "New H_opt: 40\n",
      "New H_opt: 36\n",
      "New H_opt: 33\n",
      "New H_opt: 30\n",
      "New H_opt: 28\n",
      "New H_opt: 26\n",
      "New H_opt: 25\n",
      "New H_opt: 24\n",
      "New H_opt: 22\n",
      "New H_opt: 21\n"
     ]
    },
    {
     "name": "stderr",
     "output_type": "stream",
     "text": [
      " 26%|██▌       | 130/500 [00:01<00:04, 84.34it/s]"
     ]
    },
    {
     "name": "stdout",
     "output_type": "stream",
     "text": [
      "Energy: 201809.78\n"
     ]
    },
    {
     "name": "stderr",
     "output_type": "stream",
     "text": [
      " 48%|████▊     | 239/500 [00:02<00:01, 175.09it/s]"
     ]
    },
    {
     "name": "stdout",
     "output_type": "stream",
     "text": [
      "Energy: 201353.18\n",
      "New H_opt: 20\n"
     ]
    },
    {
     "name": "stderr",
     "output_type": "stream",
     "text": [
      " 69%|██████▉   | 344/500 [00:02<00:00, 230.17it/s]"
     ]
    },
    {
     "name": "stdout",
     "output_type": "stream",
     "text": [
      "Energy: 201325.91\n"
     ]
    },
    {
     "name": "stderr",
     "output_type": "stream",
     "text": [
      " 91%|█████████ | 453/500 [00:03<00:00, 258.41it/s]"
     ]
    },
    {
     "name": "stdout",
     "output_type": "stream",
     "text": [
      "Energy: 201319.46\n"
     ]
    },
    {
     "name": "stderr",
     "output_type": "stream",
     "text": [
      "100%|██████████| 500/500 [00:03<00:00, 153.93it/s]"
     ]
    },
    {
     "name": "stdout",
     "output_type": "stream",
     "text": [
      "H_opt:  20\n"
     ]
    },
    {
     "name": "stderr",
     "output_type": "stream",
     "text": [
      "\n"
     ]
    }
   ],
   "source": [
    "from tqdm import tqdm\n",
    "F = []\n",
    "n_max = 500\n",
    "threshold = 1e-3\n",
    "\n",
    "for i in tqdm(range(n_max)):\n",
    "    \n",
    "    Sigma_A = update_Sigma_A()\n",
    "    F += [free_energy()]\n",
    "    check_energy(F,'Sigma_A')\n",
    "    \n",
    "    A = update_A()\n",
    "    F += [free_energy()]\n",
    "    check_energy(F,'A')\n",
    "    Sigma_B = update_Sigma_B()\n",
    "    \n",
    "    B = update_B()\n",
    "    F += [free_energy()]\n",
    "    check_energy(F,'B')\n",
    "\n",
    "    C_A = update_C_A()\n",
    "    F += [free_energy()]\n",
    "    check_energy(F,'C_A')\n",
    "    \n",
    "    C_B = update_C_B()\n",
    "    F += [free_energy()]\n",
    "    check_energy(F,'C_B')\n",
    "    \n",
    "    sigma2 = update_sigma2()\n",
    "    F += [free_energy()]\n",
    "    check_energy(F,'sigma_2')\n",
    "    \n",
    "    mask = np.diag(C_A)*np.diag(C_B) < threshold\n",
    "    \n",
    "    if np.sum(mask) > 0:\n",
    "        idx = np.logical_not(mask)\n",
    "        Sigma_A = (Sigma_A[idx])[:,idx]\n",
    "        A = A[:,idx]\n",
    "        Sigma_B = (Sigma_B[idx])[:,idx]\n",
    "        B = B[:,idx]\n",
    "        C_A = np.diag(np.diag(C_A)[idx])\n",
    "        C_B = np.diag(np.diag(C_B)[idx])\n",
    "        \n",
    "        H = np.sum(idx)\n",
    "        print(\"New H_opt:\",H)\n",
    "    if i % 100 == 0:\n",
    "        print(f\"Energy: {free_energy():0.2f}\")\n",
    "\n",
    "print('H_opt: ',H)"
   ]
  },
  {
   "cell_type": "code",
   "execution_count": 38,
   "metadata": {},
   "outputs": [
    {
     "data": {
      "image/png": "[encoded data removed]",
      "text/plain": [
       "<Figure size 432x288 with 1 Axes>"
      ]
     },
     "metadata": {
      "needs_background": "light"
     },
     "output_type": "display_data"
    }
   ],
   "source": [
    "plt.plot(np.arange(len(F)),F,'g--',linewidth=2)\n",
    "plt.yscale('log')\n",
    "plt.xscale('log')\n",
    "plt.grid()"
   ]
  },
  {
   "cell_type": "code",
   "execution_count": 39,
   "metadata": {},
   "outputs": [
    {
     "data": {
      "text/plain": [
       "array([6.32235768, 6.21284613, 6.30186988, 5.77198879, 6.78514697,\n",
       "       6.56153948, 9.2154033 , 6.16173482, 6.67656103, 6.10845955,\n",
       "       6.18300497, 6.23260662, 6.88054586, 6.89763703, 9.40744868,\n",
       "       7.35140986, 6.48161355, 7.55140831, 6.65716802, 8.08265654])"
      ]
     },
     "execution_count": 39,
     "metadata": {},
     "output_type": "execute_result"
    }
   ],
   "source": [
    "np.diag(C_A)"
   ]
  },
  {
   "cell_type": "code",
   "execution_count": 40,
   "metadata": {},
   "outputs": [
    {
     "data": {
      "text/plain": [
       "array([8.94525248, 7.33406094, 6.01355656, 7.59822197, 8.33003936,\n",
       "       7.60862076, 4.17247148, 7.87182304, 7.83463282, 8.38135525,\n",
       "       8.41872585, 7.72355552, 6.23750018, 7.4021182 , 4.77704926,\n",
       "       6.52105238, 8.85049555, 7.0705105 , 8.54172004, 5.7519877 ])"
      ]
     },
     "execution_count": 40,
     "metadata": {},
     "output_type": "execute_result"
    }
   ],
   "source": [
    "np.diag(C_B)"
   ]
  },
  {
   "cell_type": "code",
   "execution_count": 41,
   "metadata": {},
   "outputs": [
    {
     "data": {
      "text/plain": [
       "'sigma_est: 4.02'"
      ]
     },
     "execution_count": 41,
     "metadata": {},
     "output_type": "execute_result"
    }
   ],
   "source": [
    "f\"sigma_est: {np.sqrt(sigma2):0.2f}\" "
   ]
  }
 ],
 "metadata": {
  "kernelspec": {
   "display_name": "Python 3",
   "language": "python",
   "name": "python3"
  },
  "language_info": {
   "codemirror_mode": {
    "name": "ipython",
    "version": 3
   },
   "file_extension": ".py",
   "mimetype": "text/x-python",
   "name": "python",
   "nbconvert_exporter": "python",
   "pygments_lexer": "ipython3",
   "version": "3.7.4"
  }
 },
 "nbformat": 4,
 "nbformat_minor": 2
}
