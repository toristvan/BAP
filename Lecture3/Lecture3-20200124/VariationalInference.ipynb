{
 "cells": [
  {
   "cell_type": "markdown",
   "metadata": {
    "slideshow": {
     "slide_type": "slide"
    }
   },
   "source": [
    "## Mean-field variational inference "
   ]
  },
  {
   "cell_type": "markdown",
   "metadata": {
    "slideshow": {
     "slide_type": "skip"
    }
   },
   "source": [
    "$\n",
    "\\newcommand{\\R}{\\mathbb{R}}\n",
    "\\newcommand{\\I}{\\mathbb{I}}\n",
    "\\newcommand{\\N}{\\mathcal{N}}\n",
    "\\newcommand{\\E}{\\mathbb{E}}\n",
    "\\newcommand{\\D}{\\mathcal{D}}\n",
    "\\newcommand{\\x}{\\boldsymbol{x}}\n",
    "\\newcommand{\\z}{\\boldsymbol{z}}\n",
    "\\newcommand{\\X}{\\boldsymbol{X}}\n",
    "\\newcommand{\\Z}{\\boldsymbol{Z}}\n",
    "\\newcommand{\\y}{\\boldsymbol{y}}\n",
    "\\newcommand{\\w}{\\boldsymbol{w}}\n",
    "\\newcommand{\\bleta}{\\boldsymbol{\\eta}}\n",
    "\\newcommand{\\blchi}{\\boldsymbol{\\chi}}\n",
    "\\newcommand{\\T}{\\top}\n",
    "\\newcommand{\\mM}{\\mathcal{M}}\n",
    "\\newcommand{\\trd}{\\triangledown}\n",
    "$"
   ]
  },
  {
   "cell_type": "markdown",
   "metadata": {
    "slideshow": {
     "slide_type": "slide"
    }
   },
   "source": [
    "### The general probabilistic model\n",
    "<hr>"
   ]
  },
  {
   "cell_type": "markdown",
   "metadata": {
    "slideshow": {
     "slide_type": "fragment"
    }
   },
   "source": [
    "\n",
    "*     Graphical model with local and global latent (hidden) variables $\\beta$ and $\\Z$ correspondingly.\n",
    "\n",
    "<br>\n",
    "<br>\n",
    "<center>\n",
    "<img src='prob_model.png' width=500>"
   ]
  },
  {
   "cell_type": "markdown",
   "metadata": {
    "slideshow": {
     "slide_type": "fragment"
    }
   },
   "source": [
    "* Model parameter $\\beta$\n",
    "$$\\large{\n",
    "\\ \\beta \\sim p(\\beta | \\alpha)\n",
    "}$$\n",
    "* Latent variable $z_n$, where $n = \\overline{1..N}$\n",
    "$$\\large{\n",
    "\\ \\z_n \\sim p(z_n | \\beta)\n",
    "}$$"
   ]
  },
  {
   "cell_type": "markdown",
   "metadata": {
    "slideshow": {
     "slide_type": "fragment"
    }
   },
   "source": [
    "* Posterior distribution is proportional to the joint distribution of the general probabilistic model\n",
    "$$\\large{\n",
    "p(\\beta,\\Z| \\X, \\alpha) \\propto  p(\\X,\\Z, \\beta| \\alpha) = p(\\beta|\\alpha)\\prod_{n=1}^N p(x_n,z_n|\\beta)  \n",
    "}$$"
   ]
  },
  {
   "cell_type": "markdown",
   "metadata": {
    "slideshow": {
     "slide_type": "slide"
    }
   },
   "source": [
    "* Computing the log-marginal ( _evidence_ ) is normally not fisible.\n",
    "\n",
    "$$\\large{\n",
    "\\ln{p(\\X|\\alpha)} = \\ln \\int \\overbrace{p( \\Z, \\beta\\ |\\ \\X, \\alpha)}^{\\text{no closed form}}\\ p( \\X\\ |\\ \\alpha )\\ d\\Z d\\beta\n",
    "}$$\n",
    "\n"
   ]
  },
  {
   "cell_type": "markdown",
   "metadata": {
    "slideshow": {
     "slide_type": "fragment"
    }
   },
   "source": [
    "* Let $q(\\Z,\\beta)$ be an arbitrary $\\textit{variational}$ distribution over the local and global hidden variables.\n",
    "\n",
    "\n",
    "$$\\large{\n",
    "\\ln{p(\\X|\\alpha)} = \\ln \\int \\frac{q(\\Z,\\beta)\\ p(\\X, \\Z, \\beta\\ |\\ \\alpha)}{q(\\Z,\\beta)}\\ d\\Z d\\beta = \\ln \\mathbb{E}\\bigg[\\  \\frac{p(\\X, \\Z, \\beta\\ |\\ \\alpha)}{q(\\Z,\\beta)}\\ \\bigg]\n",
    "}$$\n",
    "<br><br>\n",
    "**Note:** $\\ \\ \\mathbb{E}[f(x)] = \\int p(x) f(x) dx $"
   ]
  },
  {
   "cell_type": "markdown",
   "metadata": {
    "slideshow": {
     "slide_type": "slide"
    }
   },
   "source": [
    "### Jensen's inequality\n",
    "\n",
    "<hr>\n",
    "<center>\n",
    "<img src='jensens.png' width=700>\n",
    "</center>\n",
    "\n",
    "<br>\n",
    "<br>\n",
    "$${\n",
    "g(\\mathbb{E}[X]) \\leq \\mathbb{E}[g(X)]\\quad \\text{where}\\ q(\\cdot)\\ \\text{is convex}\n",
    "}$$\n",
    "\n",
    "$$\\text{and}$$\n",
    "\n",
    "$${\\boxed{\n",
    "g(\\mathbb{E}[X]) \\geq \\mathbb{E}[g(X)]\\quad \\text{where}\\ q(\\cdot)\\ \\text{is concave}\n",
    "}}$$\n"
   ]
  },
  {
   "cell_type": "markdown",
   "metadata": {
    "slideshow": {
     "slide_type": "slide"
    }
   },
   "source": [
    "* Apply the Jensen's inequality for the concave function $\\ln(\\cdot)$.\n",
    "\n",
    "$$\\large{\n",
    "\\ln{p(\\X|\\alpha)} = \\ln \\mathbb{E}\\bigg[\\  \\frac{p(\\X, \\Z, \\beta\\ |\\ \\alpha)}{q(\\Z,\\beta)}\\ \\bigg] \\geq  \\underbrace{\\mathbb{E}\\bigg[\\  \\ln{\\frac{p(\\X, \\Z, \\beta\\ |\\ \\alpha)}{q(\\Z,\\beta)}}\\ \\bigg]}_{\\text{ELBO}} = \\mathbb{E}\\bigg[\\  \\ln{\\frac{\\overbrace{p(\\Z, \\beta\\ |\\  \\X, \\alpha)}^{\\text{true posterior}}}{q(\\Z,\\beta)}}\\ \\bigg] + \\ln{p(\\X |\\alpha )}\n",
    "}$$\n",
    "\n",
    "**Note:** ELBO - _evidence lower bound_"
   ]
  },
  {
   "cell_type": "markdown",
   "metadata": {
    "slideshow": {
     "slide_type": "fragment"
    }
   },
   "source": [
    "<br>\n",
    "\n",
    "* Kullback-Leibler divergence definition:\n",
    "\n",
    "$$\\large{\n",
    "\\mathcal{D}_{KL}\\Big[q(x)\\ ||\\ p(x)\\Big] = \\mathbb{E}\\Big[ \\ln\\frac{q(x)}{p(x)} \\Big] = -\\mathbb{E}\\Big[ \\ln\\frac{p(x)}{q(x)} \\Big] \\geq 0\n",
    "}$$"
   ]
  },
  {
   "cell_type": "markdown",
   "metadata": {
    "slideshow": {
     "slide_type": "slide"
    }
   },
   "source": [
    "* Evidence lower bound as KL-diverigence\n",
    "\n",
    "$$\\large{\n",
    "\\ln{p(\\X|\\alpha)} \\geq  \\ln{p(\\X|\\alpha)} - \\underbrace{\\mathcal{D}_{KL}\\Big[ \\overbrace{q(\\Z,\\beta)}^{\\text{posterior proxy}}\\ ||\\ \\overbrace{p(\\Z, \\beta\\ |\\  \\X, \\alpha)}^{\\text{true posterior}}\\ \\Big]}_{\\geq 0} \\triangleq \\mathcal{L}\\Big[q(\\Z,\\beta)\\Big]\n",
    "}$$\n",
    "\n",
    "* Optimal solution when $\\mathcal{D}[\\ q(\\Z,\\beta)\\ ||\\ p(\\Z,\\beta | X, \\alpha)\\ ] = 0$, i.e. posterior proxy equal to true posterior.\n",
    "\n",
    "$$\\boxed{\\large{\n",
    "\\ q(\\Z,\\beta)\\  = \\ p(\\Z,\\beta | X, \\alpha)\\ \n",
    "}}$$"
   ]
  },
  {
   "cell_type": "markdown",
   "metadata": {
    "slideshow": {
     "slide_type": "slide"
    }
   },
   "source": [
    "### Log-marginal approximation\n",
    "<hr>"
   ]
  },
  {
   "cell_type": "markdown",
   "metadata": {
    "slideshow": {
     "slide_type": "fragment"
    }
   },
   "source": [
    "$\n",
    "\\DeclareMathOperator*{\\argmax}{arg\\,max}\n",
    "\\DeclareMathOperator*{\\argmin}{arg\\,min}\n",
    "$\n",
    "\n",
    "* Let $\\theta = \\{\\Z,\\beta\\}$\n",
    "\n",
    "* Approximate log-marginal by solving the followig otimization problem for the evidence lower bound $\\mathcal{L}[\\ q(\\Z,\\beta)\\ ] = \\mathcal{L}[\\ q(\\theta)\\ ]$:\n",
    "<br><br>\n",
    "$${\\large{\n",
    "\\argmin_{q(\\theta)}\\quad \\mathcal{D}_{KL}\\Big[\\ q(\\theta)\\ ||\\ p(\\theta \\ |\\  \\X, \\alpha)\\ \\Big],\\quad \\text{s.t.}\\ \\int q(\\theta) d\\theta = 1\n",
    "}\\ }$$"
   ]
  },
  {
   "cell_type": "markdown",
   "metadata": {
    "slideshow": {
     "slide_type": "fragment"
    }
   },
   "source": [
    "$$\\large{\\text{or}}$$\n",
    "\n",
    "$$\\boxed{\\ {\\large{\n",
    "\\argmax_{q(\\theta)}\\quad \\mathbb{E}\\bigg[\\  \\ln{\\frac{p(\\X, \\theta\\ |\\ \\alpha)}{q(\\theta)}}\\ \\bigg] = \\mathbb{E}\\bigg[\\  \\ln{p(\\X, \\theta \\ |\\ \\alpha)}\\ \\bigg] - \\mathcal{H}\\Big[q(\\theta)\\Big] \n",
    "}\\ \\  \\text{s.t.}\\ \\int q(\\theta) d\\theta = 1}\\ }$$\n",
    "\n",
    "<br><br>\n",
    "**Note:** Entropy definition $\\ \\mathcal{H}[q(x)] = -\\mathbb{E}[\\ln q(x)]$"
   ]
  },
  {
   "cell_type": "markdown",
   "metadata": {
    "slideshow": {
     "slide_type": "slide"
    }
   },
   "source": [
    "### Mean-field assumption\n",
    "<hr>\n",
    "\n",
    "* We restrict the family of possible ( _proxy_ ) distibutions $q(\\theta)$ to be factorizable as following:\n",
    "\n",
    "$$\\large{\n",
    "q(\\theta) = \\prod_{i=1}^M q_i(\\theta_i)\n",
    "}$$\n",
    "\n"
   ]
  },
  {
   "cell_type": "markdown",
   "metadata": {
    "slideshow": {
     "slide_type": "fragment"
    }
   },
   "source": [
    "* Then the ELBO can be rewritten as a function of $q(\\theta_j)$ using the shortcut $\\large{\\ q_i = q_i(\\theta_i)\\ }$:\n",
    "<br>\n",
    "<br>\n",
    "$$\\large{\n",
    "\\mathcal{L}[\\ q_j \\ ] = \\int \\prod_{i=1}^M q_i \\ln{\\frac{p(\\X,\\theta_i|\\alpha)}{q_i}}\\ d\\theta_i = \\  \\int q_j \\bigg\\{ \\underbrace{\\int \\ln p(\\X,\\theta | \\alpha ) \\prod_{i \\neq j} q_i \\ d\\theta_i}_{\\ln\\widetilde{p}(X, \\theta_j)} \\bigg\\}\\ d\\theta_j - \\int q_j \\ln{q_j}\\ d\\theta_j + \\text{const}\n",
    "}$$\n",
    "<br><br>\n",
    "* Expectation with respect to the $q$ distributions over all variables $\\theta_i$ such that $i \\neq j$.\n",
    "\n",
    "$$\\large{\n",
    "\\ \\ln\\widetilde{p}(X, \\Z_i) = \\int \\ln(\\X,\\theta) \\prod_{i \\neq j} q_i \\ d\\theta_i = \\mathbb{E}_{i \\neq j}[\\ \\ln p{(\\X, \\theta | \\alpha)} \\ ]+ \\text{const} \n",
    "}$$"
   ]
  },
  {
   "cell_type": "markdown",
   "metadata": {
    "slideshow": {
     "slide_type": "slide"
    }
   },
   "source": [
    "* Optimal soltion for the ELBO as a function of $q_j(\\theta_j)$\n",
    "\n",
    "$$\\large{\n",
    "\\mathcal{L}[\\ q_j \\ ] = \\int q_j \\ln{\\widetilde{p}(\\X, \\theta)} \\ d\\theta_j - \\int q_j \\ln{q_j}\\ d\\theta_j = \\int q_j \\ln{\\frac{\\widetilde{p}(\\X, \\theta)}{q_j}} \\ d \\theta_j\n",
    "}$$\n",
    "\n",
    "$$\\large{\n",
    "\\mathcal{L}[\\ q_j \\ ] = -\\int q_j \\ln{\\frac{q_j}{\\widetilde{p}(\\X, \\theta)} } \\ d \\theta_j = - \\mathcal{D}_{KL}\\Big[\\  q_j \\ || \\ \\widetilde{p}(\\X,\\theta) \\ \\Big]\n",
    "}$$\n",
    "\n",
    "* Optimal solution for the KL-divergence $q^{*}_j(\\theta_j) = \\widetilde{p}(\\X,\\theta)$\n",
    "\n",
    "$$\\boxed{\\large{\\ \\  \\ln q^{*}_j(\\theta_j) = \\ln\\widetilde{p}(\\X,\\theta) = \\mathbb{E}_{i \\neq j}[\\ \\ln p {(\\X, \\theta | \\alpha)} \\ ]+ \\text{const}  \\ \\\n",
    "}}$$"
   ]
  },
  {
   "cell_type": "markdown",
   "metadata": {
    "slideshow": {
     "slide_type": "slide"
    }
   },
   "source": [
    "* In practie we will work with the log form and then reinstate the normalization factor (where required) by inspection of the proxy distribution form.\n",
    "\n",
    "$${\\large{ q^{*}_j(\\theta_j) = \\frac{\\exp\\Big\\{\\mathbb{E}_{i \\neq j}[\\ \\ln{(\\X, \\theta)} \\ ]\\Big\\}}{\\int \\exp\\Big\\{\\mathbb{E}_{i \\neq j}[\\ \\ln{(\\X, \\theta)} \\ ]\\Big\\}\\ d\\theta_j}\n",
    "}}$$"
   ]
  },
  {
   "cell_type": "markdown",
   "metadata": {
    "slideshow": {
     "slide_type": "slide"
    }
   },
   "source": [
    "### Overall ELBO optimization \n",
    "\n",
    "\n",
    "\n",
    "* The set of the optimal solutions $q^{*}_j(\\theta_j)$ for $j \\in \\overline{1..M}$ represent a set of conditions for the maximum of the ELBO.\n",
    "\n",
    "\n",
    "\n",
    "* We wil seek for the overall solution by first initializing all of the factors $ q_i(\\theta_i)_{ i \\neq j}$ appropriatelly, then finding optimal $ q^*_j(\\theta_j)$\n",
    "\n",
    "\n",
    "\n",
    "* Cycling the factors and replacing them by last estimates from the $q^*_j(\\theta_j)$  is garanteed to converge because bound is convex wrt to all of the factors $q_i(\\theta_i)$."
   ]
  },
  {
   "cell_type": "markdown",
   "metadata": {
    "slideshow": {
     "slide_type": "slide"
    }
   },
   "source": [
    "## Example Probabilistic Matrix Factorization\n",
    "<hr>"
   ]
  },
  {
   "cell_type": "markdown",
   "metadata": {
    "slideshow": {
     "slide_type": "fragment"
    }
   },
   "source": [
    "<center>\n",
    "    <img  src='VMF.png' width=1000/>\n",
    "</center>\n",
    "<br>"
   ]
  },
  {
   "cell_type": "markdown",
   "metadata": {
    "slideshow": {
     "slide_type": "fragment"
    }
   },
   "source": [
    "* Where \n",
    "$\\newcommand{\\and}{\\text{and}}$\n",
    "$$\n",
    "A = \\Big(A_m \\Big)_{m = 1}^{M} \\in \\mathbb{R}^{(M,H)}, \\quad A_m \\in \\mathbb{R}^{ \\ H \\ }\\quad \\and \\quad B = \\Big(B_l \\Big)_{l = 1}^{L} \\in \\mathbb{R}^{(L,H)}, \\quad B_l \\in \\mathbb{R}^{ \\ H \\ }\n",
    "$$\n",
    "<br><br>\n",
    "$\\quad \\quad \n",
    "C_A = \\textbf{diag}(c_a^2),\\quad c_a \\in \\mathbb{R}^{H} \\quad \\and \\quad C_B = \\textbf{diag}(c_b^2),\\quad c_b \\in \\mathbb{R}^{H}\n",
    "$"
   ]
  },
  {
   "cell_type": "markdown",
   "metadata": {
    "slideshow": {
     "slide_type": "slide"
    }
   },
   "source": [
    "* Model log-likelihood with $\\theta = \\{A,B\\}$\n",
    "<br>\n",
    "$\\newcommand{\\const}{\\text{const}}$\n",
    "<br>\n",
    "$$\\large{\n",
    "\\ln p(X_{lm} | \\theta, C_A,C_B, \\sigma^2) = \\ln\\mathcal{N}(X_{lm} | \\theta, \\sigma^2) = -\\frac{1}{2}\\bigg( \\ln{\\sigma^2} + {\\sigma^{-2}\\Big( X_{lm} - B_{l}A_{m}^{\\top} \\Big)^2 }\\bigg) + \\const\n",
    "}$$\n",
    "<br>"
   ]
  },
  {
   "cell_type": "markdown",
   "metadata": {
    "slideshow": {
     "slide_type": "fragment"
    }
   },
   "source": [
    "* Data log-likelihood $\\large{X = \\Big(X_{l,m}\\Big)}_{l=1,m=1}^{(L,M)}$\n",
    "<br>\n",
    "<br><br>\n",
    "$$\\large{\n",
    "\\ln p(X | \\theta, C_A, C_B, \\sigma^2) = -\\frac1 2\\bigg(N\\ln\\sigma^2  + \\sigma^2\\Big( ||X - BA^{\\top} ||^2_{Fro} \\Big) \\bigg) + \\const\n",
    "}$$\n",
    "\n",
    "**Note:** $|| X ||^2_{Fro} = \\tr(X^{\\top}X)$"
   ]
  },
  {
   "cell_type": "markdown",
   "metadata": {
    "slideshow": {
     "slide_type": "slide"
    }
   },
   "source": [
    "###  Log-prior distributions\n",
    "<hr>\n",
    "$\\newcommand{\\tr}{\\text{tr}}$"
   ]
  },
  {
   "cell_type": "markdown",
   "metadata": {
    "slideshow": {
     "slide_type": "fragment"
    }
   },
   "source": [
    "* Matrix A\n",
    "\n",
    "$$\\large{\n",
    "\\ln p(A | C_A) = \\ln\\mathcal{N}_H(A |0, C_A) = -\\frac1 2\\bigg(\\ln|C_A| + \\tr (A C_A^{-1} A^{\\top}) \\bigg)\n",
    "}$$"
   ]
  },
  {
   "cell_type": "markdown",
   "metadata": {
    "slideshow": {
     "slide_type": "fragment"
    }
   },
   "source": [
    "* Matrix B\n",
    "<br>\n",
    "$$\\large{\n",
    "\\ln p(B | C_B) = \\ln\\mathcal{N}_H(B |0, C_B) = -\\frac1 2\\bigg(\\ln|C_B| + \\tr (B C_B^{-1} B^{\\top}) \\bigg)\n",
    "}$$"
   ]
  },
  {
   "cell_type": "markdown",
   "metadata": {
    "slideshow": {
     "slide_type": "slide"
    }
   },
   "source": [
    "* Log-proxy for Matrix A\n",
    "\n",
    "$\\large{\n",
    "\\ln q(A)^* = \\mathbb{E}_{\\neq A}\\Big[\\ln p(X,A,B|C_A,C_B,\\sigma^2)\\Big] = }$"
   ]
  },
  {
   "cell_type": "markdown",
   "metadata": {
    "slideshow": {
     "slide_type": "fragment"
    }
   },
   "source": [
    "$\\large{\\mathbb{E}_{\\neq A}\\bigg[ -\\frac{1}2\\Big(\\sigma^{-2}\\tr\\Big( X^{\\top}X - 2X^{\\top}BA^{\\top} + AB^{\\top}BA^{\\top} \\Big) + \\tr\\Big( A C_A^{-1}A^{\\top}\\Big)\\Big)\\bigg] = \\\\ \\mathbb{E}_{\\neq A}\\bigg[-\\frac{1}2\\Big( \\tr\\Big( - 2\\sigma^{-2}X^{\\top}BA^{\\top} + A\\Big(\\sigma^{-2}B^{\\top}B + C_A^{-1}\\Big)A^{\\top} \\Big)\\Big)\\bigg]\\large}$"
   ]
  },
  {
   "cell_type": "markdown",
   "metadata": {
    "slideshow": {
     "slide_type": "fragment"
    }
   },
   "source": [
    "* Linearity of the $\\mathbb{E}$ operator\n",
    "\n",
    "$$\\mathbb{E}\\Big[ a(X + b)\\Big] = a\\mathbb{E}\\Big[X\\Big] + b$$"
   ]
  },
  {
   "cell_type": "markdown",
   "metadata": {
    "slideshow": {
     "slide_type": "fragment"
    }
   },
   "source": [
    "$$\\large{\n",
    "\\ln q(A)^* = -\\frac{1}2\\bigg[ \\tr\\Big( - 2\\sigma^{-2}X^{\\top}\\mathbb{E}\\Big[B\\Big]A^{\\top} + A\\underbrace{\\Big(\\sigma^{-2}\\mathbb{E}\\Big[B^{\\top}B\\Big] + C_A^{-1}\\Big)}_{\\hat{\\Sigma}_A^{-1}}A^{\\top} \\Big)\\bigg]\n",
    "}$$"
   ]
  },
  {
   "cell_type": "markdown",
   "metadata": {
    "slideshow": {
     "slide_type": "slide"
    }
   },
   "source": [
    "* After completing squares for the matrix form A\n",
    "\n",
    "$$\\boxed{\\large{\n",
    "\\hat{\\Sigma}_A = \\Big( \\sigma^{-2}\\mathbb{E}\\Big[B^{\\top}B\\Big] + C_A^{-1}\\Big)^{-1}\n",
    "}}$$\n",
    "\n",
    "<br>\n",
    "$$\\boxed{\\large{\n",
    "\\hat{A} = \\sigma^{-2}X^{\\top}\\mathbb{E}\\Big[B\\Big] \\hat{\\Sigma}_A\n",
    "}}$$"
   ]
  },
  {
   "cell_type": "markdown",
   "metadata": {
    "slideshow": {
     "slide_type": "fragment"
    }
   },
   "source": [
    "* Proxy for the Matrix A\n",
    "\n",
    "$$\\large{q(A)^* \\sim \\mathcal{N}(A | \\hat{A}, \\hat\\Sigma_A)}$$\n",
    "\n",
    "$$\\large{\n",
    "\\mathbb{E}\\Big[A\\Big] = \\hat{A}, \\quad \\mathbb{E}\\Big[A^{\\top}A\\Big] = \\hat{A}^{\\top}A + M\\Sigma_A \n",
    "}$$"
   ]
  },
  {
   "cell_type": "markdown",
   "metadata": {
    "slideshow": {
     "slide_type": "slide"
    }
   },
   "source": [
    "* Analogously after completing squares for the matrix form B\n",
    "\n",
    "$$\\boxed{\\large{\n",
    "\\hat{\\Sigma}_B = \\Big( \\sigma^{-2}\\mathbb{E}\\Big[A^{\\top}A\\Big] + C_B^{-1}\\Big)^{-1}\n",
    "}}$$\n",
    "\n",
    "<br>\n",
    "$$\\boxed{\\large{\n",
    "\\hat{B} = \\sigma^{-2}X\\mathbb{E}\\Big[A\\Big] \\hat{\\Sigma}_B\n",
    "}}$$"
   ]
  },
  {
   "cell_type": "markdown",
   "metadata": {},
   "source": [
    "* Proxy for the Matrix A\n",
    "\n",
    "$$\\large{q(B)^* \\sim \\mathcal{N}(B | \\hat{B}, \\hat\\Sigma_B)}$$\n",
    "\n",
    "$$\\large{\n",
    "\\mathbb{E}\\Big[B\\Big] = \\hat{B}, \\quad \\mathbb{E}\\Big[B^{\\top}B\\Big] = \\hat{B}^{\\top}B + L\\Sigma_B \n",
    "}$$"
   ]
  },
  {
   "cell_type": "markdown",
   "metadata": {
    "slideshow": {
     "slide_type": "slide"
    }
   },
   "source": [
    "* Variational free energy is negative ELBO\n",
    "\n",
    "$$\\large{\n",
    "2F = 2 \\mathbb{E}\\bigg[ \\ln\\frac{q(A)q(B)}{p(X | A, B) p(A) p(B)}\\bigg]\n",
    "}$$"
   ]
  },
  {
   "cell_type": "markdown",
   "metadata": {
    "slideshow": {
     "slide_type": "fragment"
    }
   },
   "source": [
    "$$2F = LM\\ln(2\\pi\\sigma^2) + \\frac{|| X - \\hat B\\hat A^{\\top} ||^2_{Fro}}{\\sigma^2} + M\\frac{\\log\\text{det}(C_A)}{\\log\\text{det}(\\hat\\Sigma_A)}+ L\\frac{\\log\\text{det}(C_B)}{\\log\\text{det}(\\hat\\Sigma_B)} - (L+M)H \\\\ +  \n",
    "    \\text{tr}\\Big( C_A^{-1} (A^{\\top}A + M\\hat{\\Sigma}_A) + C_B^{-1} (\\hat{B}^{\\top}\\hat B + L\\hat \\Sigma_{B})\\Big) \\\\ + \\frac{\\text{tr}\\Big( -A^{\\top}A\\hat{B}^{\\top}\\hat B + (A^{\\top}A + M\\hat{\\Sigma}_A) (\\hat{B}^{\\top}\\hat B + L\\hat \\Sigma_{B}) \\Big)}{\\sigma^2} \n",
    "$$"
   ]
  }
 ],
 "metadata": {
  "celltoolbar": "Slideshow",
  "kernelspec": {
   "display_name": "Python 3",
   "language": "python",
   "name": "python3"
  },
  "language_info": {
   "codemirror_mode": {
    "name": "ipython",
    "version": 3
   },
   "file_extension": ".py",
   "mimetype": "text/x-python",
   "name": "python",
   "nbconvert_exporter": "python",
   "pygments_lexer": "ipython3",
   "version": "3.7.4"
  }
 },
 "nbformat": 4,
 "nbformat_minor": 2
}
