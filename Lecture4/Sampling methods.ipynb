{
 "cells": [
  {
   "cell_type": "markdown",
   "metadata": {
    "slideshow": {
     "slide_type": "skip"
    }
   },
   "source": [
    "$\\newcommand{\\E}{\\mathbb{E}}$\n",
    "$\\newcommand{\\lrg}{\\large}$\n",
    "$\\newcommand{\\where}{\\ \\text{where}\\ }$\n",
    "$\\require{color}$\n",
    "$\\newcommand{\\qw}{{\\color{blue}{q(w)}}}$\n",
    "$\\newcommand{\\sumJ}{\\sum_{j=1}^{J}}$\n",
    "$\\newcommand{\\D}{\\mathcal{D}}$\n",
    "$\\newcommand{\\ltxt}[1]{\\large\\text{#1}}$"
   ]
  },
  {
   "cell_type": "markdown",
   "metadata": {
    "slideshow": {
     "slide_type": "slide"
    }
   },
   "source": [
    "$\\ltxt{Sampling Methods}$"
   ]
  },
  {
   "cell_type": "markdown",
   "metadata": {
    "slideshow": {
     "slide_type": "slide"
    }
   },
   "source": [
    "### $\\ltxt{Approximations: deterministic vs. sampling  }$\n",
    "<hr>\n",
    "<br><br>"
   ]
  },
  {
   "cell_type": "markdown",
   "metadata": {
    "slideshow": {
     "slide_type": "fragment"
    }
   },
   "source": [
    "* $\\text{Bayes function estimation e.g. by variational inference (deterministic):}$\n",
    "<br><br>\n",
    "\n",
    "$$\\lrg{\n",
    "\\E[f(w)] = \\int f(w) \\cdot p(w| \\D)\\ dw \\approx \\int f(w)\\cdot \\qw\\ dw, \\where q(w) \\approx p(w | \\D)\n",
    "}$$\n",
    "<br><br>"
   ]
  },
  {
   "cell_type": "markdown",
   "metadata": {
    "slideshow": {
     "slide_type": "fragment"
    }
   },
   "source": [
    "* $\\text{Estimation by sampling (non-deterministic):}$\n",
    "\n",
    "$$\\lrg{\n",
    "\\E[f(w)] = \\int f(w) \\cdot p(w| \\D)\\ dw \\approx \\frac{1}{J}\\sumJ f(w^{(j)}), \\where w^{(j)} \\sim \\underbrace{p(w | \\D)}_{\\color{blue}{\\text{unknown}}}\n",
    "}$$"
   ]
  },
  {
   "cell_type": "markdown",
   "metadata": {
    "slideshow": {
     "slide_type": "slide"
    }
   },
   "source": [
    "### $\\ltxt{Markov chain Monte Carlo (MCMC) methods}$"
   ]
  },
  {
   "cell_type": "markdown",
   "metadata": {
    "slideshow": {
     "slide_type": "fragment"
    }
   },
   "source": [
    "<br>\n",
    "\n",
    "* $\\text{Sampling methods drawn from unnormalized distributions}$"
   ]
  },
  {
   "cell_type": "markdown",
   "metadata": {
    "slideshow": {
     "slide_type": "fragment"
    }
   },
   "source": [
    "$$\\lrg{\n",
    "w^{(j)} \\sim \\underbrace{p(w | \\D)}_{\\color{blue}{\\text{unknown}}} \\propto \\underbrace{p(\\D, w)}_{\\color{green}\\text{known}} = \\underbrace{\\overbrace{p(\\D | w)}^{\\text{likelihood}}\\cdot \\overbrace{p(w)}^{\\text{prior}}}_{\\text{not normalized}}\n",
    "}$$"
   ]
  },
  {
   "cell_type": "markdown",
   "metadata": {
    "slideshow": {
     "slide_type": "slide"
    }
   },
   "source": [
    "### $\\ltxt{Metropolis-Hastings (MH) algorithm (a general method):}$\n",
    "<hr>\n",
    "<center>\n",
    "<img src='mcmc.png' width=600>"
   ]
  },
  {
   "cell_type": "markdown",
   "metadata": {
    "slideshow": {
     "slide_type": "skip"
    }
   },
   "source": [
    "$\\newcommand{\\ws}{\\ w^*  }$\n",
    "$\\newcommand{\\wj}{\\ w^{(j)} }$\n",
    "$\\newcommand{\\wo}{\\ w^{(j-1)} }$\n",
    "$\\require{amsmath}$"
   ]
  },
  {
   "cell_type": "markdown",
   "metadata": {
    "slideshow": {
     "slide_type": "fragment"
    }
   },
   "source": [
    "$\\text{In the $j$-th iteration,}$\n",
    "\n",
    "$\\quad \\quad 1)\\ \\text{Draw a sample}\\ \\lrg{\n",
    "\\ws \\sim r(\\ws | \\wo ) \\overbrace{=}^{\\text{e.g.}}\\ \\mathcal{N}(\\ws | \\wo, \\gamma)}$\n",
    "\n",
    "$\\quad \\quad $2) Set the $j$-th sample to \n",
    "\n",
    "$${\n",
    "\\wj = \\begin{cases}\n",
    "    \\ws & \\text{with probability}\\ T,\\\\\n",
    "    \\wo & \\text{with probability}\\ 1-T,\n",
    "  \\end{cases}\n",
    "}$$\n",
    "<br>\n",
    "$$  \\text{where the acceptance probability}\\ T\\ \\text{satisfies the}\\ \\color{green}{\\textbf{detailed balance property}}.$$"
   ]
  },
  {
   "cell_type": "markdown",
   "metadata": {
    "slideshow": {
     "slide_type": "slide"
    }
   },
   "source": [
    "### $\\ltxt{Detailed balance property}$\n",
    "<hr><br>\n",
    "$$\\lrg{\n",
    "T = \\min\\bigg(\\ 1 \\ ,\\ \\frac{p(\\ws,\\ \\D\\ )\\cdot r(\\wo | \\ws )}{p (\\wo, \\D\\ ) \\cdot r(\\ws | \\wo)}\\ \\bigg)\n",
    "}$$"
   ]
  },
  {
   "cell_type": "markdown",
   "metadata": {
    "slideshow": {
     "slide_type": "slide"
    }
   },
   "source": [
    "### $\\ltxt{Metropolis-Hastings algorithm}$"
   ]
  },
  {
   "cell_type": "code",
   "execution_count": 257,
   "metadata": {
    "slideshow": {
     "slide_type": "skip"
    }
   },
   "outputs": [],
   "source": [
    "import numpy as np\n",
    "from scipy.stats import expon, norm, gamma, bernoulli\n",
    "import seaborn as sns\n",
    "import matplotlib\n",
    "import matplotlib.pyplot as plt\n",
    "from tqdm import tqdm"
   ]
  },
  {
   "cell_type": "markdown",
   "metadata": {
    "slideshow": {
     "slide_type": "slide"
    }
   },
   "source": [
    "### $\\ltxt{Toy data generation}$\n",
    "<hr>"
   ]
  },
  {
   "cell_type": "code",
   "execution_count": 258,
   "metadata": {
    "slideshow": {
     "slide_type": "fragment"
    }
   },
   "outputs": [
    {
     "data": {
      "image/png": "[encoded data removed]",
      "text/plain": [
       "<Figure size 432x288 with 1 Axes>"
      ]
     },
     "metadata": {
      "needs_background": "light"
     },
     "output_type": "display_data"
    }
   ],
   "source": [
    "rate = 0.35 # True rate\n",
    "D = np.sort(expon.rvs(loc=0,scale=1/rate,size=100, random_state=42))\n",
    "# Histogram plot \n",
    "plt.hist(D,bins=20, rwidth=0.8, alpha=0.5, density=True,label='toy data')\n",
    "sns.kdeplot(D, color='r', label='KDE')\n",
    "plt.legend()\n",
    "plt.title('Toy data histogram plot', fontsize=25)\n",
    "_=plt.grid()"
   ]
  },
  {
   "cell_type": "markdown",
   "metadata": {
    "slideshow": {
     "slide_type": "slide"
    }
   },
   "source": [
    "### $\\ltxt{ Metropolis-Hastings ( MH ) algorithm implementation}$\n",
    "<hr>"
   ]
  },
  {
   "cell_type": "code",
   "execution_count": 265,
   "metadata": {
    "slideshow": {
     "slide_type": "fragment"
    }
   },
   "outputs": [],
   "source": [
    "alpha = 1\n",
    "beta = 0.5\n",
    "\n",
    "def mh(D, steps = 5000):\n",
    "    sigma  = 0.1\n",
    "    w_prev = 0.1\n",
    "    lkh=expon \n",
    "    prior=gamma\n",
    "    W = []\n",
    "    for i in tqdm(range(steps)):\n",
    "        ws = np.abs(norm.rvs(loc=w_prev, scale=sigma))  # sample a new candidate entry    \n",
    "        ln_p_ws_D = lkh.logpdf(D, scale=1/ws).sum() + prior.logpdf(ws, a=alpha, scale=1/beta) # ln(p(w*,D))      \n",
    "        ln_p_w_prev_D = lkh.logpdf(D, scale=1/w_prev).sum() + prior.logpdf(w_prev, a=alpha, scale=1/beta)  # ln(p(w_{j-1}, D))     \n",
    "        T = np.exp(np.min([0, ln_p_ws_D - ln_p_w_prev_D])) # log of the detailed balance property\n",
    "        accept = bernoulli.rvs(p = T) # draw the acceptance probability\n",
    "        if accept:\n",
    "            w_prev = ws\n",
    "            W.append(ws)            \n",
    "    return np.array(W)"
   ]
  },
  {
   "cell_type": "markdown",
   "metadata": {
    "slideshow": {
     "slide_type": "slide"
    }
   },
   "source": [
    "### $\\ltxt{Run MH sampler}$\n",
    "<hr>"
   ]
  },
  {
   "cell_type": "code",
   "execution_count": 260,
   "metadata": {
    "slideshow": {
     "slide_type": "fragment"
    }
   },
   "outputs": [
    {
     "name": "stderr",
     "output_type": "stream",
     "text": [
      "100%|██████████| 10000/10000 [00:05<00:00, 1990.68it/s]\n"
     ]
    }
   ],
   "source": [
    "W = mh(D,steps=10000)"
   ]
  },
  {
   "cell_type": "markdown",
   "metadata": {
    "slideshow": {
     "slide_type": "slide"
    }
   },
   "source": [
    "### $\\ltxt{Plot estimated posterior from the MH samples}$\n",
    "<hr>"
   ]
  },
  {
   "cell_type": "code",
   "execution_count": 261,
   "metadata": {
    "slideshow": {
     "slide_type": "fragment"
    }
   },
   "outputs": [
    {
     "data": {
      "image/png": "[encoded data removed]",
      "text/plain": [
       "<Figure size 432x288 with 1 Axes>"
      ]
     },
     "metadata": {
      "needs_background": "light"
     },
     "output_type": "display_data"
    }
   ],
   "source": [
    "burn_in = 1000\n",
    "W = W[burn_in:]\n",
    "\n",
    "plt.hist(W, density=True, bins=30, rwidth=0.8, alpha=0.2)\n",
    "sns.kdeplot(W, ls='--', color='r', label='KDE')\n",
    "plt.axvline(W.mean(), ls='--', color='g', label= '$\\\\mathbb{E}[\\lambda] \\\\approx $'+f'{W.mean():.3f}')\n",
    "\n",
    "alpha_hat = alpha + len(D)\n",
    "beta_hat = np.sum(D) + beta\n",
    "space = np.linspace(W.min(),W.max(),500)\n",
    "plt.plot(space, gamma.pdf(space,a=alpha_hat,scale=1/beta_hat), ls='-', color='orange', label='posterior')\n",
    "plt.xlabel('$\\\\mathbb{E}[\\lambda] = $'+ f'{alpha_hat/beta_hat:.3f}')\n",
    "plt.grid(axis='x')\n",
    "_=plt.legend()"
   ]
  },
  {
   "cell_type": "markdown",
   "metadata": {
    "slideshow": {
     "slide_type": "slide"
    }
   },
   "source": [
    "### $\\ltxt{Predictive density approximation}$\n",
    "<hr>\n",
    "\n",
    "$$\\lrg{\n",
    "p(x^* | \\D, \\alpha) = \\int p(x^*,w | \\D, \\alpha)\\ dw = \\int p(x^* |\\ w, \\alpha)\\cdot p(w | \\D, \\alpha)\\ dw =\n",
    "}$$"
   ]
  },
  {
   "cell_type": "markdown",
   "metadata": {
    "slideshow": {
     "slide_type": "fragment"
    }
   },
   "source": [
    "$$\\boxed{\\lrg{\n",
    "\\frac1 J \\sumJ p(x^* | \\wj ), \\where \\wj \\sim q(w).\n",
    "}}$$"
   ]
  },
  {
   "cell_type": "code",
   "execution_count": 262,
   "metadata": {
    "slideshow": {
     "slide_type": "skip"
    }
   },
   "outputs": [],
   "source": [
    "from numpy import log\n",
    "from scipy.special import loggamma as lgam\n",
    "def pred_dist(x,X,alpha,beta): \n",
    "    alpha_hat = alpha + len(X)\n",
    "    beta_hat = np.sum(X) + beta\n",
    "    alpha_tilde = alpha_hat + 1\n",
    "    beta_tilde = x + beta_hat\n",
    "    ln_p = alpha_hat*log(beta_hat) + lgam(alpha_tilde) - (lgam(alpha_hat) + alpha_tilde*log(beta_tilde)) \n",
    "    return np.exp(ln_p)"
   ]
  },
  {
   "cell_type": "markdown",
   "metadata": {
    "slideshow": {
     "slide_type": "slide"
    }
   },
   "source": [
    "### $\\ltxt{Predictive density plot}$\n",
    "<hr>"
   ]
  },
  {
   "cell_type": "code",
   "execution_count": 263,
   "metadata": {
    "scrolled": true,
    "slideshow": {
     "slide_type": "fragment"
    }
   },
   "outputs": [
    {
     "data": {
      "image/png": "[encoded data removed]",
      "text/plain": [
       "<Figure size 576x288 with 1 Axes>"
      ]
     },
     "metadata": {
      "needs_background": "light"
     },
     "output_type": "display_data"
    }
   ],
   "source": [
    "S = np.linspace(0.1,15,100)\n",
    "pred = pred_dist(S,D,alpha,beta)\n",
    "pred_approx = expon.pdf(S[:,None], scale=1./W[None]).mean(1) # <- Predictive density approximation\n",
    "plt.figure(figsize=(8,4))\n",
    "plt.hist(D,bins=20, rwidth=0.8, alpha=0.5, density=True,label='toy data')\n",
    "plt.plot(S,pred_approx,color='g')\n",
    "plt.plot(S,pred,color='r', ls='--', alpha=0.5, label='true pred')\n",
    "plt.fill_between(S,0,pred_approx,alpha=0.5, color='g', label='approx pred')\n",
    "plt.grid(axis='x')\n",
    "_=plt.legend(loc=1)"
   ]
  },
  {
   "cell_type": "markdown",
   "metadata": {
    "slideshow": {
     "slide_type": "slide"
    }
   },
   "source": [
    "### $\\lrg{\\text{Gibbs-sampling algorithm ( special case of MH algorithm ):}}$\n",
    "\n",
    "<br><br>\n",
    "<center>\n",
    "<img src='gibbs.png' width=600>\n",
    "<hr>"
   ]
  },
  {
   "cell_type": "markdown",
   "metadata": {
    "slideshow": {
     "slide_type": "fragment"
    }
   },
   "source": [
    "<br>\n",
    "$\\lrg{\n",
    "\\text{If}\\ p(w_m | w_{\\setminus m}, \\D)\\ \\text{is in known form (sampler is available)},\n",
    "}$\n",
    "\n",
    "$\\lrg{\n",
    "\\text{In the}\\ j-\\text{th iteration,} \n",
    "}$\n",
    "\n",
    "$\\lrg{\\quad \\quad 1)\\ \\text{Draw as}\\ \\textit{entry}\\ w^*_m \\sim p(w_m\\ |\\ w_{\\setminus m}^{(j-1)} ), \\ \\text{and set}\\ w^*_{\\setminus m} = w_{\\setminus w}^{(j-1)}.\n",
    "}$\n",
    "\n",
    "$\\lrg{\n",
    "\\quad \\quad 2)\\ \\text{Set}\\ w_{m}^{(j)} = w^*_m\\quad \\color{red}\\text{(with probability 1)}\n",
    "}$"
   ]
  },
  {
   "cell_type": "markdown",
   "metadata": {
    "slideshow": {
     "slide_type": "slide"
    }
   },
   "source": [
    "### $\\ltxt{Gibbs sampling in latent Dirichlet allocation (LDA) }$\n",
    "<hr>\n",
    "\n",
    "* $\\text{Topic Model}$\n",
    "\n",
    "<center>\n",
    "<img src='topics.png' width=1000>"
   ]
  },
  {
   "cell_type": "markdown",
   "metadata": {
    "slideshow": {
     "slide_type": "slide"
    }
   },
   "source": [
    "### $\\ltxt{Latent Dirichlet allocation model}$\n",
    "<hr>\n",
    "<center>\n",
    "<img src='LDA.png' width=900>"
   ]
  },
  {
   "cell_type": "markdown",
   "metadata": {
    "slideshow": {
     "slide_type": "fragment"
    }
   },
   "source": [
    "* $\\text{Model parameters}$\n",
    "\n",
    "$${ \n",
    "M: \\#\\ \\text{of documents}, \\\\\n",
    "N: \\#\\ \\text{of words in each document}, \\\\\n",
    "V: \\ \\text{vocabulary size}, \\\\\n",
    "K: \\#\\ \\text{of topics}\\ (\\ \\leq \\min(M,V)\\ ), \\\\\n",
    "w^{(n,m)} \\in \\{0,1\\}^{V} \\leftarrow\\ n\\text{-th observed word in}\\  m\\text{-th document},\\ W \\in \\{0, 1\\}^{(N,M,V)}, \\\\\n",
    "z^{(n,m)}\\ \\in \\{0,1\\}^{K} \\leftarrow\\ \\text{topic assignment for}\\ n\\text{-th word in}\\  m\\text{-th document},\\ Z \\in \\{0,1\\}^{(N,M,K)}, \\\\\n",
    "\\Theta \\in [0,1]^{(M,K)} \\leftarrow\\ \\text{document-topic parameter}, \\\\\n",
    "B \\in [0,1]^{(K,V)}\\ \\leftarrow\\ \\text{topic-word parameter}, \\\\\n",
    "\\alpha_0, \\eta_0 \\leftarrow\\ \\text{hyperparameters}.\n",
    "}$$"
   ]
  },
  {
   "cell_type": "markdown",
   "metadata": {
    "slideshow": {
     "slide_type": "slide"
    }
   },
   "source": [
    "### $\\ltxt{Model likelihood}$\n",
    "<hr>\n",
    "\n",
    "$${\n",
    "p(w^{(n,m)} | \\Theta, B ) = \\prod_{v=1}^V\\bigg( \\sum_{k=1}^K \\beta_{k,v} \\cdot \\theta_{m,k} \\bigg)^{w_v^{(n,m)}}\n",
    "}$$"
   ]
  },
  {
   "cell_type": "markdown",
   "metadata": {
    "slideshow": {
     "slide_type": "skip"
    }
   },
   "source": [
    "$\\newcommand{\\zc} { z^{(n,m)} } $"
   ]
  },
  {
   "cell_type": "markdown",
   "metadata": {
    "slideshow": {
     "slide_type": "fragment"
    }
   },
   "source": [
    "* $\\ltxt{Introducing the latent variable}\\  z^{(n,m)}\\ \\text{changes sum to a product and makes the likelihood separable}.$\n",
    "<br><br>\n",
    "\n",
    "$$\\lrg{\n",
    "p(w^{(n,m)}, \\zc \\ |\\ \\Theta, B ) = \\prod_{v=1}^V\\bigg( \\prod_{k=1}^K (\\beta_{k,v} \\cdot \\theta_{m,k})^{\\zc_k} \\bigg)^{w_v^{(n,m)}} = \n",
    "}$$"
   ]
  },
  {
   "cell_type": "markdown",
   "metadata": {
    "slideshow": {
     "slide_type": "fragment"
    }
   },
   "source": [
    "$$\\lrg{\\prod_{k=1}^K \\Big( \\theta_{m,k}\\Big)^{\\zc_k}\\prod_{v=1}^V \\Big(\\beta_{k,v}\\Big)^{\\zc_k}\n",
    "}$$"
   ]
  },
  {
   "cell_type": "markdown",
   "metadata": {
    "slideshow": {
     "slide_type": "slide"
    }
   },
   "source": [
    "### $\\ltxt{Priors}$\n",
    "<hr>\n",
    "\n",
    "* $\\text{Prior over document parameter}\\ \\Theta$\n",
    "\n",
    "$$\\lrg{\n",
    "p(\\Theta) \\sim \\text{Dir}(\\Theta\\ |\\ \\alpha_0) \\propto \\prod_{m=1}^M \\prod_{k=1}^K \\Big( \\theta_{m,k}^{\\ \\alpha_0 - 1}\\Big)\n",
    "}$$"
   ]
  },
  {
   "cell_type": "markdown",
   "metadata": {
    "slideshow": {
     "slide_type": "fragment"
    }
   },
   "source": [
    "* $\\text{Prior over topic-word parameter}$\n",
    "\n",
    "$$\\lrg{\n",
    "p(B) \\sim \\text{Dir}(B\\ |\\ \\eta_0) \\propto \\prod_{k=1}^K \\prod_{v=1}^V \\Big( \\theta_{k,v}^{\\ \\eta_0 - 1}\\Big)\n",
    "}$$"
   ]
  },
  {
   "cell_type": "markdown",
   "metadata": {
    "slideshow": {
     "slide_type": "slide"
    }
   },
   "source": [
    "### $\\ltxt{Posterior} $\n",
    "<HR>\n",
    "$$\\lrg{\n",
    "p(Z, \\Theta, B\\ |\\ W ) \\propto p(W,Z | \\Theta, B)\\cdot p(\\Theta)\\cdot p(B) \n",
    "}$$"
   ]
  },
  {
   "cell_type": "markdown",
   "metadata": {
    "slideshow": {
     "slide_type": "fragment"
    }
   },
   "source": [
    "$$\\lrg{\n",
    "\\propto \\underbrace{\\prod_{m=1}^M \\prod_{n=1}^N \\prod_{k=1}^K \\Big( \\theta_{m,h} \\Big)^{\\zc_k + (\\alpha_0-1)/N}  \\prod_{v=1}^V \\Big(\\beta_{k,v}^{w}\\Big)^{w_v^{(n,m)}z_k^{(n,m)} + (\\eta_0-1)/(MN)}}_{\\text{Posterior is not in the known form.}} \n",
    "}$$"
   ]
  },
  {
   "cell_type": "markdown",
   "metadata": {
    "slideshow": {
     "slide_type": "slide"
    }
   },
   "source": [
    "#### $\\ltxt{Joint on}\\ Z,\\Theta, B\\ \\ltxt{is not in known form, but conditionals:}$\n",
    "\n",
    "<hr>\n",
    "\n",
    "$$\\lrg{p(Z | \\Theta, B, W) \\propto \\prod_{m=1}^M\\prod_{n=1}^N\\prod_{k=1}^K \\bigg(\\theta_{m,k}\\prod_{v=1}^V w_v^{(n,m)}\\bigg)^{z_k^{(n,m)}} \\leftarrow \\text{Multinomial}\n",
    "}$$"
   ]
  },
  {
   "cell_type": "markdown",
   "metadata": {
    "slideshow": {
     "slide_type": "fragment"
    }
   },
   "source": [
    "$$\\lrg{\n",
    "p(\\Theta | Z, W) \\propto \\prod_{m=1}^M\\prod_{n=1}^N\\prod_{k=1}^K \\Big(\\theta_{m,k}\\Big)^{z_k^{(n,m)} + (\\alpha_0 - 1)/N} \\leftarrow \\text{Dirichlet}\n",
    "}$$"
   ]
  },
  {
   "cell_type": "markdown",
   "metadata": {
    "slideshow": {
     "slide_type": "fragment"
    }
   },
   "source": [
    "$$\\lrg{\n",
    "p(B | Z, W) \\propto \\prod_{m=1}^M\\prod_{n=1}^N\\prod_{k=1}^K \\prod_{v=1}^V \\Big(\\beta_{k,v}^{w}\\Big)^{w_v^{(n,m)}z_k^{(n,m)} + (\\eta_0-1)/(MN)}  \\leftarrow \\text{Dirichlet}.\n",
    "}$$"
   ]
  },
  {
   "cell_type": "markdown",
   "metadata": {
    "slideshow": {
     "slide_type": "slide"
    }
   },
   "source": [
    "### $\\ltxt{Gibbs sampling for LDA}$\n",
    "<hr>\n",
    "\n",
    "<br><br>\n",
    "\n",
    "$\\ltxt{In}\\ j\\ltxt{-th step,} $\n",
    "<br><br>\n",
    "$\\lrg{\\quad 1)\\ \\ \\text{For each}\\ (n,m)\\ {\\color{blue}{\\text{independently}}}\\ \\text{draw}\\ \\Large{z^{(n,m)_{(j)}} \\sim p( z^{(n,m)}\\ |\\ \\Theta^{(j-1)}, B^{(j-1)},W)},\n",
    "}$"
   ]
  },
  {
   "cell_type": "markdown",
   "metadata": {
    "slideshow": {
     "slide_type": "fragment"
    }
   },
   "source": [
    "$\\lrg{\n",
    "\\quad 2)\\ \\ \\text{For each}\\ m\\ {\\color{blue}\\text{independently}}\\ \\text{draw}\\ \\hat\\theta_{m}^{(j)} \\sim p(\\hat\\theta_m \\ |\\ Z^{(j)}, W),\n",
    "}$"
   ]
  },
  {
   "cell_type": "markdown",
   "metadata": {
    "slideshow": {
     "slide_type": "fragment"
    }
   },
   "source": [
    "$\\lrg{\n",
    "\\quad 3)\\ \\ \\text{For each}\\ k\\ {\\color{blue}\\text{independently}}\\ \\text{draw}\\ \\hat\\beta_{k}^{(j)} \\sim p(\\hat\\beta_k \\ |\\ Z^{(j)}, W).\n",
    "}$"
   ]
  },
  {
   "cell_type": "markdown",
   "metadata": {
    "slideshow": {
     "slide_type": "fragment"
    }
   },
   "source": [
    "<br><br>\n",
    "\n",
    "* $\\lrg{\\text{Conditionaly independent sampling}\\ \\leftarrow\\ \\text{easy to parallelize !}}$ "
   ]
  },
  {
   "cell_type": "markdown",
   "metadata": {
    "slideshow": {
     "slide_type": "slide"
    }
   },
   "source": [
    "### $\\ltxt{\n",
    "Overview of the probabilistic models \n",
    "}$\n",
    "<hr>\n",
    "<br>\n",
    "<center>\n",
    "<img src='tax.png' width=1500>"
   ]
  }
 ],
 "metadata": {
  "celltoolbar": "Slideshow",
  "kernelspec": {
   "display_name": "Python 3",
   "language": "python",
   "name": "python3"
  },
  "language_info": {
   "codemirror_mode": {
    "name": "ipython",
    "version": 3
   },
   "file_extension": ".py",
   "mimetype": "text/x-python",
   "name": "python",
   "nbconvert_exporter": "python",
   "pygments_lexer": "ipython3",
   "version": "3.7.4"
  }
 },
 "nbformat": 4,
 "nbformat_minor": 2
}
