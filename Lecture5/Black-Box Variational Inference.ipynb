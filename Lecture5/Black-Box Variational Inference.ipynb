{
 "cells": [
  {
   "cell_type": "markdown",
   "metadata": {
    "slideshow": {
     "slide_type": "skip"
    }
   },
   "source": [
    "$\\newcommand{\\ltxt}[1]{\\large{\\text{#1}}}$\n",
    "$\\newcommand{\\lrg}[1]{\\large{#1}}$\n",
    "$\\newcommand{\\E}{\\mathbb{E}}$\n",
    "$\\newcommand{\\Bsr}{\\Big[ }$\n",
    "$\\newcommand{\\Bsl}{\\Big]}$\n",
    "$\\newcommand{\\p}{\\partial}$\n",
    "$\\newcommand{\\trd}{\\triangledown}$\n",
    "$\\newcommand{\\trdp}{\\triangledown_\\phi}$\n",
    "$\\newcommand{\\N}{\\mathcal{N}}$"
   ]
  },
  {
   "cell_type": "markdown",
   "metadata": {
    "slideshow": {
     "slide_type": "slide"
    }
   },
   "source": [
    "## $\\ltxt{Variational Black-Box Inference}$"
   ]
  },
  {
   "cell_type": "markdown",
   "metadata": {
    "slideshow": {
     "slide_type": "slide"
    }
   },
   "source": [
    "### $\\ltxt{A general probabilistic model}$\n",
    "<hr>\n",
    "<center>\n",
    "    <img src='prob_model.png' width=700>\n",
    "</center>\n",
    "<br><br>"
   ]
  },
  {
   "cell_type": "markdown",
   "metadata": {
    "slideshow": {
     "slide_type": "fragment"
    }
   },
   "source": [
    "\n",
    "$ \\text{Given model distribution}\\ p(X | Z, \\theta)\\ \\text{and prior}\\ p(Z  | \\theta),\\ \\text{where}$\n",
    "\n",
    "* $ Z=\\Big\\{z_i\\Big\\}_{i=1}^M\\ \\cup \\{ \\beta \\}\\ \\text{- all latent model variables,}$\n",
    "<br><br>\n",
    "* $\\theta = \\{ \\alpha \\} \\ \\text{- model hyper parameters,}$\n",
    "<br><br>\n",
    "* $X = \\Big\\{ x_i\\Big\\}_{i=1}^N\\ \\text{- observed data}.$"
   ]
  },
  {
   "cell_type": "markdown",
   "metadata": {
    "slideshow": {
     "slide_type": "slide"
    }
   },
   "source": [
    "### $\\ltxt{Bayes Free energy }$\n",
    "<hr>\n",
    "\n",
    "* $\\text{Proxy distribution for the true posterior with variational parameter}\\ \\phi :$\n",
    "<br><br>\n",
    "$$\\lrg{q(Z | \\phi) \\approx p(Z | X, \\theta)}$$\n"
   ]
  },
  {
   "cell_type": "markdown",
   "metadata": {
    "slideshow": {
     "slide_type": "fragment"
    }
   },
   "source": [
    "* $\\text{Bayes free energy}$\n",
    "\n",
    "$$\\lrg{\\mathcal{F}[q(Z | \\phi)] = \\E\\Bsr \\ln\\frac{q(Z| \\phi)}{p(X,Z| \\theta)}\\Bsl = \\mathcal{D}_{KL}\\Big[ \\overbrace{q(Z | \\phi)}^{\\text{proxy}}\\ ||\\ \\overbrace{p(Z | X,\\theta)}^{\\text{prior}}\\Big]  - \\mathbb{E}\\Bsr \\ln p(X | Z, \\theta)\\Bsl\n",
    "}$$"
   ]
  },
  {
   "cell_type": "markdown",
   "metadata": {
    "slideshow": {
     "slide_type": "slide"
    }
   },
   "source": [
    "### $\\ltxt{Free energy evaluation}$\n",
    "<hr>"
   ]
  },
  {
   "cell_type": "markdown",
   "metadata": {
    "slideshow": {
     "slide_type": "-"
    }
   },
   "source": [
    "* $\\text{KL divergence can be approximated by sampling}$ \n",
    "\n",
    "$$\\lrg{\n",
    "\\mathcal{D}_{KL}\\Big[ q(Z|\\phi)\\ ||\\ p(Z |\\theta) \\Big] \\approx \\frac{1}{J}\\sum_{j=1}^J \\ln\\frac{q(Z^{(j)} | \\phi)}{p(Z^{(j)} | \\theta)},\\ \\text{where}\\ Z^{(j)}\\sim q(Z|\\phi)\n",
    "}$$"
   ]
  },
  {
   "cell_type": "markdown",
   "metadata": {
    "slideshow": {
     "slide_type": "fragment"
    }
   },
   "source": [
    "* $\\text{Expectation can be approximated by sampling}$\n",
    "\n",
    "$$\\lrg{\n",
    "\\mathbb{E}\\Bsr \\ln p(X | Z, \\theta)\\Bsl \\approx \\frac{1}{J}\\sum_{j=1}^J \\ln p(X | Z^{(j)}, \\theta),\\ \\text{where}\\ Z^{(j)}\\sim q(Z|\\phi)\n",
    "}$$"
   ]
  },
  {
   "cell_type": "markdown",
   "metadata": {
    "slideshow": {
     "slide_type": "slide"
    }
   },
   "source": [
    "### $\\lrg{ \\text{Approximated Bayes free energy}}$\n",
    "<hr>\n",
    "\n",
    "$$\\lrg{\n",
    "\\mathcal F[q(Z | \\phi)] \\approx  \\frac{1}{J}\\sum_{j=1}^J \\ln\\frac{q(Z^{(j)} | \\phi)}{p(X | Z^{(j)}, \\theta)\\cdot p(Z^{(j)} | \\theta)} = \\mathcal A[q(Z | \\phi)]\n",
    "}$$"
   ]
  },
  {
   "cell_type": "markdown",
   "metadata": {
    "slideshow": {
     "slide_type": "fragment"
    }
   },
   "source": [
    "* $\\text{Better approximation when KL divenrgence computed analytically}$\n",
    "\n",
    "$$\\lrg{\n",
    "\\mathcal F[q(Z | \\phi)] \\approx \\mathcal{D}_{KL}\\Bsr q(Z |\\phi)\\ ||\\ p(Z | \\theta)\\Bsl - \\frac{1}{J}\\sum_{j=1}^J \\ln p(X | Z^{(j)}, \\theta),\\ \\text{where}\\ Z^{(j)}\\sim q(Z|\\phi)\n",
    "}$$"
   ]
  },
  {
   "cell_type": "markdown",
   "metadata": {
    "slideshow": {
     "slide_type": "slide"
    }
   },
   "source": [
    "### $\\ltxt{Approx Bayes free energy minimization}$\n",
    "<hr>\n",
    "\n",
    "$$\\lrg{\n",
    "\\min_{q(Z | \\phi)} \\mathcal{A}[q(Z | \\phi)]\n",
    "}$$\n",
    "<br>"
   ]
  },
  {
   "cell_type": "markdown",
   "metadata": {
    "slideshow": {
     "slide_type": "fragment"
    }
   },
   "source": [
    "\n",
    "* $\\text{ (Stochastic) gradient descent wrt. to variational parameter}\\ \\phi\\ \\text{?}$\n",
    "<br><br><br><br>"
   ]
  },
  {
   "cell_type": "markdown",
   "metadata": {
    "slideshow": {
     "slide_type": "fragment"
    }
   },
   "source": [
    "\n",
    "* ${\n",
    "{\\color{red}{\\text{No partial derivative}}}, \\text{because samples depend on}\\ \\phi \n",
    "}$\n",
    "\n",
    "$$\\lrg{\n",
    "{\\trdp \\mathcal{A}[q(Z | \\phi)]} \\neq \\trdp \\bigg( \\frac{1}{J}\\sum_{j=1}^J \\ln\\frac{q(Z^{(j)} | \\phi)}{p(X | Z^{(j)}, \\theta)\\cdot p(Z^{(j)} | \\theta)} \\bigg) ,\\ \\text{where}\\ Z^{(j)}\\sim q(Z|\\phi)\n",
    "}$$"
   ]
  },
  {
   "cell_type": "markdown",
   "metadata": {
    "slideshow": {
     "slide_type": "slide"
    }
   },
   "source": [
    "### $\\ltxt{Two popular methods evaluating the gradient}$\n",
    "<hr>\n",
    "<br>"
   ]
  },
  {
   "cell_type": "markdown",
   "metadata": {
    "slideshow": {
     "slide_type": "fragment"
    }
   },
   "source": [
    "* $\\text{Score gradient (a.k.a. likelihood ratio estimator, REINFORCE)} $\n",
    "<br><br>"
   ]
  },
  {
   "cell_type": "markdown",
   "metadata": {
    "slideshow": {
     "slide_type": "fragment"
    }
   },
   "source": [
    "* $\\text{Reparametrization gradient (a.k.a., pathwise derivative, stochastic backprop., IPA)}$"
   ]
  },
  {
   "cell_type": "markdown",
   "metadata": {
    "slideshow": {
     "slide_type": "slide"
    }
   },
   "source": [
    "### $\\ltxt{Score gradient}$\n",
    "<hr>\n",
    "<br>\n",
    "\n",
    "$$\\lrg{\n",
    "{ \\trdp\\E[ f(z) ]_{z \\sim q(z|\\phi)}} =  \\int f(z) \\cdot \\trdp q(z|\\phi) \\ dz =\n",
    "}$$"
   ]
  },
  {
   "cell_type": "markdown",
   "metadata": {
    "slideshow": {
     "slide_type": "fragment"
    }
   },
   "source": [
    "$$\\lrg{ \\int f(z)  \\cdot q(z|\\phi) \\trdp \\ln q(z|\\phi) dz}$$\n",
    "\n",
    "\n",
    "$\\lrg{\\text{Hint:}\\ {\\trd_x g(x)} = g(x)\\trd_x \\ln g(x) }$"
   ]
  },
  {
   "cell_type": "markdown",
   "metadata": {
    "slideshow": {
     "slide_type": "fragment"
    }
   },
   "source": [
    "$$\\boxed{\\lrg{\n",
    "\\trdp\\E[ f(z) ]_{z \\sim q(z|\\phi)} = \\E[ f(z)  \\cdot \\trdp \\ln q(z|\\phi) ]_{z \\sim q(z|\\phi)}\n",
    "}}$$"
   ]
  },
  {
   "cell_type": "markdown",
   "metadata": {
    "slideshow": {
     "slide_type": "slide"
    }
   },
   "source": [
    "### $\\ltxt{Bayes free energy minimization by score gradient}$\n",
    "<hr>"
   ]
  },
  {
   "cell_type": "markdown",
   "metadata": {
    "slideshow": {
     "slide_type": "fragment"
    }
   },
   "source": [
    "$${\n",
    "\\lrg{\\trdp  \\mathcal{F}[q(Z | \\phi)]} = \\trdp \\E\\Bsr \n",
    "\\overbrace{\\ln\\frac{q(Z| \\phi)}{p(X,Z| \\theta)}}^{f(Z)} \\Bsl = \\E\\Bsr \\ln \\frac{q(Z| \\phi)}{p(X,Z| \\theta)}\\trdp \\ln q(z|\\phi) \\Bsl \n",
    "}$$"
   ]
  },
  {
   "cell_type": "markdown",
   "metadata": {
    "slideshow": {
     "slide_type": "fragment"
    }
   },
   "source": [
    "* Can be approximated by sampling:\n",
    "\n",
    "$$\\lrg{\n",
    "{\\trdp \\mathcal{F}[q(Z | \\phi)]} \\approx \\frac{1}{J}\\sum_{j=1}^J  \\ln \\frac{q(Z| \\phi)}{p(X,Z| \\theta)}\\trdp \\ln q(z|\\phi), \\ \\text{where}\\ Z^{(i)} \\sim q(Z | \\phi)\n",
    "}$$\n",
    "\n",
    "**Assumption:** $q(Z | \\phi)\\ \\text{is differentialble wrt.}\\ \\phi$\n",
    "<br>"
   ]
  },
  {
   "cell_type": "markdown",
   "metadata": {
    "slideshow": {
     "slide_type": "fragment"
    }
   },
   "source": [
    "* $\\text{With auto-differentiation, no complicated calculation required for implementation!}$"
   ]
  },
  {
   "cell_type": "markdown",
   "metadata": {
    "slideshow": {
     "slide_type": "slide"
    }
   },
   "source": [
    "###  $\\ltxt{Reparametrization gradient (Gaussian example)}$\n",
    "<hr>\n",
    "\n",
    "* $\\text{Assume}$\n",
    "\n",
    "$$\\lrg{Z \\sim q_\\phi(Z | X) = \\N_H \\bigg(Z  \\ |\\ \\mu_\\phi(X), \\text{Diag}\\Big(\\sigma^2_\\phi(X)\\Big)\\bigg),}$$\n",
    "\n",
    "$\\text{where}\\  \\mu_\\phi(X)\\ \\text{and}\\ \\sigma^2_\\phi(X) \\ \\text{are functions of data}\\ X\\ \\text{and parameter}\\ \\phi\\ \\text{for mean and cov matrix appropriately.}$\n"
   ]
  },
  {
   "cell_type": "markdown",
   "metadata": {
    "slideshow": {
     "slide_type": "fragment"
    }
   },
   "source": [
    "* ${\\text{Reparametrization trick:}}$\n",
    "\n",
    "$\\newcommand{\\gphi}{{\\color{blue}{g_\\phi}}}$\n",
    "$\\newcommand{\\er}{{\\color{red}{\\epsilon}}}$\n",
    "$${\\lrg{\n",
    "Z \\sim \\gphi(X, \\er),\\ \\text{such that}\\ \\gphi(X, \\er) = \\mu_\\phi(X) + \\er\\ \\odot\\ \\sigma^2_\\phi(X),\\  \n",
    "}}$$\n",
    "\n",
    "${\\text{where}\\ \\gphi(X, \\er)\\ \\text{is differentiable wrt.}\\ \\phi\\ \\text{and}}$\n"
   ]
  },
  {
   "cell_type": "markdown",
   "metadata": {
    "slideshow": {
     "slide_type": "fragment"
    }
   },
   "source": [
    "$$\\lrg{p(\\er) \\sim \\N_H (\\er | 0, \\mathbb{I})\\ \\leftarrow \\ p(\\er)\\ \\text{doesn't depend on}\\ \\phi}$$"
   ]
  },
  {
   "cell_type": "markdown",
   "metadata": {
    "slideshow": {
     "slide_type": "slide"
    }
   },
   "source": [
    "###  $\\ltxt{Reparametrization gradient for the free energy}$\n",
    "<hr>\n",
    "<br>\n",
    "\n",
    "$$\\lrg{\\trdp \\E[ f(\\overbrace{Z}^{\\gphi(X, \\er)}) ]_{\\scriptsize{Z \\sim q_\\phi(Z | X)}} = \\trdp \\E[ \\gphi(X, \\epsilon) ]_{\\scriptsize{\\er \\sim \\N_H(\\er | 0, \\mathbb{I})}} =  \\E[ \\trdp \\gphi(X, \\er) ]_{\\scriptsize{\\er \\sim  \\N_H(\\epsilon | 0, \\mathbb{I})}}}$$"
   ]
  },
  {
   "cell_type": "markdown",
   "metadata": {
    "slideshow": {
     "slide_type": "fragment"
    }
   },
   "source": [
    "<br>\n",
    "\n",
    "$$\\lrg{\n",
    "\\trdp  \\mathcal{F}[q(Z | \\phi)] = \\E \\bigg[\\trdp \\ln \\frac{q(\\gphi(X, \\er)\\ |\\ X)}{p\\Big(X \\ |\\  \\gphi(X, \\er) ,\\theta \\Big) p\\Big(\\gphi(X, \\er),\\theta\\Big)} \\bigg]_{\\scriptsize{\\er \\sim  \\N_H(\\epsilon \\ |\\  0, \\mathbb{I})}}\n",
    "}$$ "
   ]
  },
  {
   "cell_type": "markdown",
   "metadata": {
    "slideshow": {
     "slide_type": "fragment"
    }
   },
   "source": [
    "* $\\text{Gradient can be approximated if}$:\n",
    "<br>\n",
    "\n",
    "    * $\\text{Likelihood}\\ p(X | Z, \\theta)\\ \\text{and}\\ \\text{prior}\\  p(Z | \\theta)\\ \\text{are differentiable wrt.}\\ Z$\n",
    "   \n",
    "    * $\\text{Proxy}\\ q(Z | \\phi)\\ \\text{differentialble wrt.}\\ \\phi$"
   ]
  },
  {
   "cell_type": "markdown",
   "metadata": {
    "slideshow": {
     "slide_type": "fragment"
    }
   },
   "source": [
    "* $\\text{Many continous variable cases are reparametriazable}$\n",
    "\n",
    "* $\\text{Discrete cases NOT.}$"
   ]
  }
 ],
 "metadata": {
  "celltoolbar": "Slideshow",
  "kernelspec": {
   "display_name": "Python 3",
   "language": "python",
   "name": "python3"
  },
  "language_info": {
   "codemirror_mode": {
    "name": "ipython",
    "version": 3
   },
   "file_extension": ".py",
   "mimetype": "text/x-python",
   "name": "python",
   "nbconvert_exporter": "python",
   "pygments_lexer": "ipython3",
   "version": "3.7.4"
  }
 },
 "nbformat": 4,
 "nbformat_minor": 2
}
