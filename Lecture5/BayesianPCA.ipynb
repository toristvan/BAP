{
 "cells": [
  {
   "cell_type": "markdown",
   "metadata": {},
   "source": [
    "# Bayesian Principal Component Analysis\n",
    "\n",
    "<br><br>\n",
    "<img src='BPCA.jpg' width=500>"
   ]
  },
  {
   "cell_type": "code",
   "execution_count": 1,
   "metadata": {},
   "outputs": [],
   "source": [
    "import inferpy as inf\n",
    "import tensorflow as tf\n",
    "import numpy as np\n",
    "import matplotlib.pyplot as plt"
   ]
  },
  {
   "cell_type": "markdown",
   "metadata": {},
   "source": [
    "## Definition of a generic prababilistic model\n",
    "<br><br>\n",
    "<img src='PCA.jpg' width=200>"
   ]
  },
  {
   "cell_type": "code",
   "execution_count": 2,
   "metadata": {},
   "outputs": [],
   "source": [
    "@inf.probmodel\n",
    "def pca(K,D,sigma2=0.1): # Assumption: K < D\n",
    "    \n",
    "    # W is an expansion of a low-dim space\n",
    "    W = inf.Normal(loc=np.zeros([D]), scale=1, name=\"W\", sample_shape=K) # shape = [K,D]\n",
    "    \n",
    "    with inf.datamodel(): # define local parameters \n",
    "        # z in a lower dim space\n",
    "        Z = inf.Normal(np.zeros(K),1, name=\"Z\")                # shape = [N,K]\n",
    "        #             (N,K) (K,D)\n",
    "        X = inf.Normal(Z @ W , sigma2, name=\"x\")                     # shape = [N,D]"
   ]
  },
  {
   "cell_type": "code",
   "execution_count": 3,
   "metadata": {},
   "outputs": [
    {
     "name": "stdout",
     "output_type": "stream",
     "text": [
      "WARNING:tensorflow:From /home/sdogadov/anaconda3/envs/ML/lib/python3.7/site-packages/inferpy/models/prob_model.py:63: The name tf.Session is deprecated. Please use tf.compat.v1.Session instead.\n",
      "\n",
      "WARNING:tensorflow:From /home/sdogadov/anaconda3/envs/ML/lib/python3.7/site-packages/inferpy/contextmanager/evidence.py:15: Variable.load (from tensorflow.python.ops.variables) is deprecated and will be removed in a future version.\n",
      "Instructions for updating:\n",
      "Prefer Variable.assign which has equivalent behavior in 2.X.\n"
     ]
    }
   ],
   "source": [
    "N = 100\n",
    "model = pca(1,2)\n",
    "X_gen = model.prior(['x'], data={'W': np.array([[0,1]])}, size_datamodel = N).sample()"
   ]
  },
  {
   "cell_type": "code",
   "execution_count": 4,
   "metadata": {},
   "outputs": [
    {
     "data": {
      "image/png": "[encoded data removed]",
      "text/plain": [
       "<Figure size 432x288 with 1 Axes>"
      ]
     },
     "metadata": {
      "needs_background": "light"
     },
     "output_type": "display_data"
    }
   ],
   "source": [
    "_=plt.plot(*X_gen.T,'o')"
   ]
  },
  {
   "cell_type": "markdown",
   "metadata": {},
   "source": [
    "## Define the Q-model"
   ]
  },
  {
   "cell_type": "code",
   "execution_count": 5,
   "metadata": {},
   "outputs": [],
   "source": [
    "@inf.probmodel\n",
    "def qmodel(K,D):\n",
    "    \n",
    "    qW_loc = inf.Parameter(tf.ones([K,D]), name = 'qW_loc')\n",
    "    qW_scale = tf.math.softplus(inf.Parameter(tf.ones([K,D]), name = 'qW_scale'))\n",
    "    \n",
    "    qW = inf.Normal(qW_loc, qW_scale, name = 'W')\n",
    "    \n",
    "    with inf.datamodel():\n",
    "        \n",
    "        qZ_loc = inf.Parameter(tf.ones([K]), name='qZ_loc')\n",
    "        qZ_scale = tf.math.softplus(inf.Parameter(tf.ones([K]), name = 'qZ_scale'))\n",
    "        \n",
    "        qZ = inf.Normal(qZ_loc,qZ_scale,name = 'Z')\n",
    "        "
   ]
  },
  {
   "cell_type": "code",
   "execution_count": 6,
   "metadata": {},
   "outputs": [
    {
     "data": {
      "text/plain": [
       "((80, 2), (20, 2))"
      ]
     },
     "execution_count": 6,
     "metadata": {},
     "output_type": "execute_result"
    }
   ],
   "source": [
    "from sklearn.model_selection import train_test_split\n",
    "X_tr, X_te = train_test_split(X_gen, test_size = 0.2, random_state = 42)\n",
    "X_tr.shape, X_te.shape"
   ]
  },
  {
   "cell_type": "code",
   "execution_count": 7,
   "metadata": {},
   "outputs": [],
   "source": [
    "qm = qmodel(1,2)\n",
    "VI = inf.inference.VI(qm, epochs=50000, optimizer=tf.compat.v1.train.AdamOptimizer(0.01))"
   ]
  },
  {
   "cell_type": "code",
   "execution_count": 8,
   "metadata": {
    "scrolled": true
   },
   "outputs": [
    {
     "name": "stdout",
     "output_type": "stream",
     "text": [
      "WARNING:tensorflow:From /home/sdogadov/anaconda3/envs/ML/lib/python3.7/site-packages/tensorflow_core/python/ops/array_ops.py:1475: where (from tensorflow.python.ops.array_ops) is deprecated and will be removed in a future version.\n",
      "Instructions for updating:\n",
      "Use tf.where in 2.0, which has the same broadcast rule as np.where\n",
      "\n",
      " 0 epochs\t 75334.0859375....................\n",
      " 200 epochs\t 26935.630859375....................\n",
      " 400 epochs\t 7842.7900390625....................\n",
      " 600 epochs\t 4301.8720703125....................\n",
      " 800 epochs\t 4761.67333984375....................\n",
      " 1000 epochs\t 1944.9354248046875....................\n",
      " 1200 epochs\t 1606.8858642578125....................\n",
      " 1400 epochs\t 1185.621826171875....................\n",
      " 1600 epochs\t 954.1097412109375....................\n",
      " 1800 epochs\t 294.3020324707031....................\n",
      " 2000 epochs\t 455.9883728027344....................\n",
      " 2200 epochs\t 440.61859130859375....................\n",
      " 2400 epochs\t 194.52195739746094....................\n",
      " 2600 epochs\t 120.91301727294922....................\n",
      " 2800 epochs\t 210.1150665283203....................\n",
      " 3000 epochs\t 182.07418823242188....................\n",
      " 3200 epochs\t 207.8995819091797....................\n",
      " 3400 epochs\t 231.74139404296875....................\n",
      " 3600 epochs\t 124.38284301757812....................\n",
      " 3800 epochs\t 144.76979064941406....................\n",
      " 4000 epochs\t 72.05653381347656....................\n",
      " 4200 epochs\t 56.181365966796875....................\n",
      " 4400 epochs\t 74.71036529541016....................\n",
      " 4600 epochs\t 53.96354675292969....................\n",
      " 4800 epochs\t 203.36856079101562....................\n",
      " 5000 epochs\t 66.02251434326172....................\n",
      " 5200 epochs\t 56.920684814453125....................\n",
      " 5400 epochs\t 75.69220733642578....................\n",
      " 5600 epochs\t 48.61564636230469....................\n",
      " 5800 epochs\t 53.59728240966797....................\n",
      " 6000 epochs\t 62.20460510253906....................\n",
      " 6200 epochs\t 86.47130584716797....................\n",
      " 6400 epochs\t 57.767921447753906....................\n",
      " 6600 epochs\t 52.24626159667969....................\n",
      " 6800 epochs\t 55.715370178222656....................\n",
      " 7000 epochs\t 53.642311096191406....................\n",
      " 7200 epochs\t 75.81001281738281....................\n",
      " 7400 epochs\t 54.49714660644531....................\n",
      " 7600 epochs\t 51.769203186035156....................\n",
      " 7800 epochs\t 58.29412078857422....................\n",
      " 8000 epochs\t 60.29978942871094....................\n",
      " 8200 epochs\t 55.164794921875....................\n",
      " 8400 epochs\t 51.141868591308594....................\n",
      " 8600 epochs\t 60.058570861816406....................\n",
      " 8800 epochs\t 50.65850067138672....................\n",
      " 9000 epochs\t 56.13091278076172....................\n",
      " 9200 epochs\t 47.407501220703125....................\n",
      " 9400 epochs\t 48.630950927734375....................\n",
      " 9600 epochs\t 57.006980895996094....................\n",
      " 9800 epochs\t 52.39839172363281....................\n",
      " 10000 epochs\t 50.87675476074219....................\n",
      " 10200 epochs\t 56.828697204589844....................\n",
      " 10400 epochs\t 61.16728210449219....................\n",
      " 10600 epochs\t 54.63086700439453....................\n",
      " 10800 epochs\t 50.50969696044922....................\n",
      " 11000 epochs\t 52.35858154296875....................\n",
      " 11200 epochs\t 59.416221618652344....................\n",
      " 11400 epochs\t 51.41227722167969....................\n",
      " 11600 epochs\t 53.94214630126953....................\n",
      " 11800 epochs\t 50.120018005371094....................\n",
      " 12000 epochs\t 51.079132080078125....................\n",
      " 12200 epochs\t 62.392303466796875....................\n",
      " 12400 epochs\t 53.47657775878906....................\n",
      " 12600 epochs\t 50.75736999511719....................\n",
      " 12800 epochs\t 51.66590118408203....................\n",
      " 13000 epochs\t 51.13380432128906....................\n",
      " 13200 epochs\t 54.26276397705078....................\n",
      " 13400 epochs\t 53.32176208496094....................\n",
      " 13600 epochs\t 56.878257751464844....................\n",
      " 13800 epochs\t 53.878631591796875....................\n",
      " 14000 epochs\t 53.20098876953125....................\n",
      " 14200 epochs\t 52.178932189941406....................\n",
      " 14400 epochs\t 60.599639892578125....................\n",
      " 14600 epochs\t 52.15015411376953....................\n",
      " 14800 epochs\t 52.086143493652344....................\n",
      " 15000 epochs\t 52.758689880371094....................\n",
      " 15200 epochs\t 51.39392852783203....................\n",
      " 15400 epochs\t 55.331443786621094....................\n",
      " 15600 epochs\t 51.12139129638672....................\n",
      " 15800 epochs\t 53.06324768066406....................\n",
      " 16000 epochs\t 55.720481872558594....................\n",
      " 16200 epochs\t 51.44921112060547....................\n",
      " 16400 epochs\t 54.91294860839844....................\n",
      " 16600 epochs\t 47.366127014160156....................\n",
      " 16800 epochs\t 53.755035400390625....................\n",
      " 17000 epochs\t 53.275245666503906....................\n",
      " 17200 epochs\t 48.989952087402344....................\n",
      " 17400 epochs\t 58.48466491699219....................\n",
      " 17600 epochs\t 52.75349426269531....................\n",
      " 17800 epochs\t 55.84303283691406....................\n",
      " 18000 epochs\t 61.21295928955078....................\n",
      " 18200 epochs\t 55.76599884033203....................\n",
      " 18400 epochs\t 53.68830108642578....................\n",
      " 18600 epochs\t 55.289100646972656....................\n",
      " 18800 epochs\t 50.70502471923828....................\n",
      " 19000 epochs\t 52.78437805175781....................\n",
      " 19200 epochs\t 47.94318389892578....................\n",
      " 19400 epochs\t 55.92253875732422....................\n",
      " 19600 epochs\t 50.42259216308594....................\n",
      " 19800 epochs\t 56.4368896484375....................\n",
      " 20000 epochs\t 53.54682922363281....................\n",
      " 20200 epochs\t 58.132057189941406....................\n",
      " 20400 epochs\t 55.262046813964844....................\n",
      " 20600 epochs\t 57.411338806152344....................\n",
      " 20800 epochs\t 54.169029235839844....................\n",
      " 21000 epochs\t 51.74012756347656....................\n",
      " 21200 epochs\t 56.426246643066406....................\n",
      " 21400 epochs\t 55.15595245361328....................\n",
      " 21600 epochs\t 45.734710693359375....................\n",
      " 21800 epochs\t 51.77208709716797....................\n",
      " 22000 epochs\t 52.69541931152344....................\n",
      " 22200 epochs\t 53.77227020263672....................\n",
      " 22400 epochs\t 54.08567810058594....................\n",
      " 22600 epochs\t 51.90839385986328....................\n",
      " 22800 epochs\t 52.15736389160156....................\n",
      " 23000 epochs\t 57.65758514404297....................\n",
      " 23200 epochs\t 54.65248107910156....................\n",
      " 23400 epochs\t 55.65850067138672....................\n",
      " 23600 epochs\t 52.832725524902344....................\n",
      " 23800 epochs\t 53.30882263183594....................\n",
      " 24000 epochs\t 55.291534423828125....................\n",
      " 24200 epochs\t 53.90807342529297....................\n",
      " 24400 epochs\t 52.206207275390625....................\n",
      " 24600 epochs\t 52.49041748046875....................\n",
      " 24800 epochs\t 55.63456726074219....................\n",
      " 25000 epochs\t 54.52043151855469....................\n",
      " 25200 epochs\t 53.55818176269531....................\n",
      " 25400 epochs\t 51.173377990722656....................\n",
      " 25600 epochs\t 55.18329620361328....................\n",
      " 25800 epochs\t 52.89110565185547....................\n",
      " 26000 epochs\t 50.901573181152344....................\n",
      " 26200 epochs\t 55.272377014160156....................\n",
      " 26400 epochs\t 53.19071960449219....................\n",
      " 26600 epochs\t 51.87391662597656....................\n",
      " 26800 epochs\t 55.123680114746094....................\n",
      " 27000 epochs\t 49.73222351074219....................\n",
      " 27200 epochs\t 55.58195495605469....................\n",
      " 27400 epochs\t 52.405433654785156....................\n",
      " 27600 epochs\t 52.277488708496094....................\n",
      " 27800 epochs\t 52.22674560546875....................\n",
      " 28000 epochs\t 54.800384521484375....................\n",
      " 28200 epochs\t 54.660552978515625....................\n",
      " 28400 epochs\t 50.19459533691406....................\n",
      " 28600 epochs\t 59.66035461425781....................\n",
      " 28800 epochs\t 51.752769470214844....................\n",
      " 29000 epochs\t 56.40528869628906....................\n",
      " 29200 epochs\t 55.950355529785156....................\n",
      " 29400 epochs\t 60.98365020751953....................\n",
      " 29600 epochs\t 52.41607666015625....................\n",
      " 29800 epochs\t 53.0516357421875....................\n",
      " 30000 epochs\t 51.850074768066406....................\n",
      " 30200 epochs\t 55.26918029785156....................\n",
      " 30400 epochs\t 56.10832214355469....................\n",
      " 30600 epochs\t 49.563560485839844....................\n",
      " 30800 epochs\t 57.32898712158203....................\n",
      " 31000 epochs\t 51.23908996582031....................\n",
      " 31200 epochs\t 48.27842712402344....................\n",
      " 31400 epochs\t 49.168304443359375....................\n",
      " 31600 epochs\t 53.451560974121094....................\n",
      " 31800 epochs\t 49.54906463623047....................\n",
      " 32000 epochs\t 51.95088195800781....................\n",
      " 32200 epochs\t 48.36665344238281....................\n",
      " 32400 epochs\t 52.41984558105469....................\n",
      " 32600 epochs\t 53.92274475097656....................\n",
      " 32800 epochs\t 49.902252197265625....................\n",
      " 33000 epochs\t 54.91949462890625....................\n",
      " 33200 epochs\t 52.86534881591797....................\n",
      " 33400 epochs\t 56.47150421142578....................\n",
      " 33600 epochs\t 47.958534240722656....................\n",
      " 33800 epochs\t 57.99895477294922....................\n",
      " 34000 epochs\t 53.68983459472656....................\n",
      " 34200 epochs\t 52.22848129272461....................\n",
      " 34400 epochs\t 53.80879211425781....................\n",
      " 34600 epochs\t 53.60895538330078....................\n",
      " 34800 epochs\t 49.32555389404297....................\n",
      " 35000 epochs\t 53.84489440917969....................\n",
      " 35200 epochs\t 56.257049560546875....................\n",
      " 35400 epochs\t 53.385894775390625....................\n",
      " 35600 epochs\t 52.16417694091797....................\n",
      " 35800 epochs\t 53.26764678955078....................\n",
      " 36000 epochs\t 49.66461944580078....................\n",
      " 36200 epochs\t 51.047584533691406....................\n",
      " 36400 epochs\t 51.85980224609375....................\n",
      " 36600 epochs\t 51.026283264160156....................\n",
      " 36800 epochs\t 49.623329162597656....................\n",
      " 37000 epochs\t 54.58112335205078....................\n",
      " 37200 epochs\t 57.26042175292969....................\n",
      " 37400 epochs\t 55.15699005126953....................\n",
      " 37600 epochs\t 52.10993957519531....................\n",
      " 37800 epochs\t 58.58654022216797....................\n",
      " 38000 epochs\t 53.20634841918945....................\n",
      " 38200 epochs\t 51.65240478515625....................\n",
      " 38400 epochs\t 53.98847198486328....................\n",
      " 38600 epochs\t 53.80132293701172....................\n",
      " 38800 epochs\t 53.223716735839844....................\n",
      " 39000 epochs\t 54.135772705078125....................\n",
      " 39200 epochs\t 50.991424560546875....................\n",
      " 39400 epochs\t 54.61321258544922....................\n",
      " 39600 epochs\t 56.58338165283203....................\n",
      " 39800 epochs\t 54.692970275878906....................\n",
      " 40000 epochs\t 52.12348175048828....................\n",
      " 40200 epochs\t 55.787437438964844....................\n",
      " 40400 epochs\t 55.619041442871094....................\n",
      " 40600 epochs\t 56.828826904296875....................\n",
      " 40800 epochs\t 57.001502990722656....................\n",
      " 41000 epochs\t 52.55488586425781....................\n",
      " 41200 epochs\t 48.59265899658203....................\n",
      " 41400 epochs\t 51.08415222167969....................\n",
      " 41600 epochs\t 50.51408386230469....................\n",
      " 41800 epochs\t 53.691978454589844....................\n",
      " 42000 epochs\t 54.05766296386719....................\n",
      " 42200 epochs\t 53.676109313964844....................\n",
      " 42400 epochs\t 53.41667175292969....................\n",
      " 42600 epochs\t 54.12163543701172....................\n",
      " 42800 epochs\t 48.03669738769531....................\n",
      " 43000 epochs\t 54.398414611816406....................\n",
      " 43200 epochs\t 54.38615417480469....................\n",
      " 43400 epochs\t 49.112281799316406....................\n",
      " 43600 epochs\t 52.84583282470703....................\n",
      " 43800 epochs\t 54.86753845214844....................\n",
      " 44000 epochs\t 52.880340576171875....................\n",
      " 44200 epochs\t 56.22825622558594....................\n",
      " 44400 epochs\t 54.51458740234375....................\n",
      " 44600 epochs\t 52.341827392578125....................\n",
      " 44800 epochs\t 52.56864929199219....................\n",
      " 45000 epochs\t 54.138465881347656....................\n",
      " 45200 epochs\t 53.02897644042969....................\n",
      " 45400 epochs\t 54.86698913574219....................\n",
      " 45600 epochs\t 51.40076446533203....................\n",
      " 45800 epochs\t 53.64063262939453....................\n",
      " 46000 epochs\t 56.930763244628906....................\n",
      " 46200 epochs\t 53.7503662109375....................\n",
      " 46400 epochs\t 50.95610046386719....................\n",
      " 46600 epochs\t 51.840614318847656....................\n",
      " 46800 epochs\t 56.23016357421875....................\n",
      " 47000 epochs\t 50.85612487792969....................\n",
      " 47200 epochs\t 53.78886413574219....................\n",
      " 47400 epochs\t 51.105445861816406....................\n",
      " 47600 epochs\t 56.22846984863281....................\n",
      " 47800 epochs\t 48.74597930908203....................\n",
      " 48000 epochs\t 54.634063720703125....................\n",
      " 48200 epochs\t 51.949676513671875....................\n",
      " 48400 epochs\t 55.955543518066406....................\n",
      " 48600 epochs\t 63.80387878417969....................\n",
      " 48800 epochs\t 48.63279724121094....................\n",
      " 49000 epochs\t 50.222129821777344....................\n",
      " 49200 epochs\t 54.12054443359375....................\n",
      " 49400 epochs\t 53.626930236816406....................\n",
      " 49600 epochs\t 51.160789489746094....................\n",
      " 49800 epochs\t 54.44419860839844...................."
     ]
    }
   ],
   "source": [
    "model.fit({'x':X_tr}, VI)"
   ]
  },
  {
   "cell_type": "code",
   "execution_count": 12,
   "metadata": {},
   "outputs": [],
   "source": [
    "ppar = model.posterior(['W','Z'], data = {'x':X_tr}).parameters()\n",
    "Wp = ppar['W']['loc']#.keys()\n",
    "Zp = ppar['Z']['loc']"
   ]
  },
  {
   "cell_type": "code",
   "execution_count": 13,
   "metadata": {},
   "outputs": [
    {
     "data": {
      "text/plain": [
       "array([[-0.00111919,  0.9972311 ]], dtype=float32)"
      ]
     },
     "execution_count": 13,
     "metadata": {},
     "output_type": "execute_result"
    }
   ],
   "source": [
    "Wp"
   ]
  },
  {
   "cell_type": "code",
   "execution_count": 16,
   "metadata": {},
   "outputs": [
    {
     "data": {
      "image/png": "[encoded data removed]",
      "text/plain": [
       "<Figure size 432x288 with 1 Axes>"
      ]
     },
     "metadata": {
      "needs_background": "light"
     },
     "output_type": "display_data"
    }
   ],
   "source": [
    "import seaborn as sns\n",
    "sns.kdeplot(Zp.ravel())\n",
    "_=plt.hist(Zp,bins=20,rwidth=0.8, density=True)"
   ]
  },
  {
   "cell_type": "code",
   "execution_count": 17,
   "metadata": {},
   "outputs": [
    {
     "data": {
      "image/png": "[encoded data removed]",
      "text/plain": [
       "<Figure size 432x288 with 1 Axes>"
      ]
     },
     "metadata": {
      "needs_background": "light"
     },
     "output_type": "display_data"
    }
   ],
   "source": [
    "XX = model.posterior_predictive().sample()\n",
    "#XX = XX.mean(0)\n",
    "plt.scatter(*X_gen.T,c='b',label='Data')\n",
    "_=plt.scatter(*XX.T,c='r',label='Post Predictive')"
   ]
  },
  {
   "cell_type": "code",
   "execution_count": null,
   "metadata": {},
   "outputs": [],
   "source": []
  },
  {
   "cell_type": "code",
   "execution_count": null,
   "metadata": {},
   "outputs": [],
   "source": []
  }
 ],
 "metadata": {
  "kernelspec": {
   "display_name": "Python 3",
   "language": "python",
   "name": "python3"
  },
  "language_info": {
   "codemirror_mode": {
    "name": "ipython",
    "version": 3
   },
   "file_extension": ".py",
   "mimetype": "text/x-python",
   "name": "python",
   "nbconvert_exporter": "python",
   "pygments_lexer": "ipython3",
   "version": "3.7.4"
  }
 },
 "nbformat": 4,
 "nbformat_minor": 2
}
