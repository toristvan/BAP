{
 "cells": [
  {
   "cell_type": "markdown",
   "metadata": {
    "slideshow": {
     "slide_type": "slide"
    }
   },
   "source": [
    "## Linear Regression Model"
   ]
  },
  {
   "cell_type": "markdown",
   "metadata": {
    "slideshow": {
     "slide_type": "slide"
    }
   },
   "source": [
    "#### Linear Regression Model\n",
    "<hr>\n",
    "* Given data set: $\\large{\\mathcal{D} = \\{ x_{i}, y_{i} \\}_{i=1}^N}$\n",
    "<br>\n",
    "<br>\n",
    "$$y_i =  \\sum_{m=0}^{M-1} w_m x^m_i + \\mathcal{E} \\quad \\leftarrow \\text{(M-1)-degree polynomial function fitting}$$\n",
    "<br>\n",
    "<center>\n",
    "<img src='lr.png' width=500/>"
   ]
  },
  {
   "cell_type": "markdown",
   "metadata": {
    "slideshow": {
     "slide_type": "slide"
    }
   },
   "source": [
    "#### Linear Regression Model\n",
    "<hr>\n",
    "* Given data set: $\\large{\\mathcal{D} = \\{ x_{i}, y_{i} \\}_{i=1}^N}$\n",
    "<br>\n",
    "<br>\n",
    "$$y_i =  W^{\\top}X_i + \\mathcal{E}, \\quad \\text{where} $$"
   ]
  },
  {
   "cell_type": "markdown",
   "metadata": {
    "slideshow": {
     "slide_type": "fragment"
    }
   },
   "source": [
    "<br>\n",
    "$$W = (w_0, w_1, \\dots, w_{M-1}) \\in \\mathbb{R}\\quad \\text{and}\\quad X_i = (x^0_i, x^1_i, \\dots, x^{M-1}_i) \\in \\mathbb{R}$$\n",
    "<br>\n",
    "<center>\n",
    "<img src='lr.png' width=500/>"
   ]
  },
  {
   "cell_type": "markdown",
   "metadata": {
    "slideshow": {
     "slide_type": "slide"
    }
   },
   "source": [
    "### Bayesian Linear regression model\n",
    "<hr>\n",
    "$$y_i =  W^{\\top}X_i + \\mathcal{E_i}, \\quad \\text{where}\\quad  \\mathcal{E_i} \\sim \\mathcal{N}(0,\\sigma^2)$$"
   ]
  },
  {
   "cell_type": "markdown",
   "metadata": {
    "slideshow": {
     "slide_type": "fragment"
    }
   },
   "source": [
    "* Model distribution (univariate Gaussian)\n",
    "\n",
    "$$p(y_i | X_i, W,\\sigma^2) = \\frac{1}{\\sqrt{2\\pi\\sigma^2}}\\exp{\\Big( -\\frac{(y_i - W^{\\top}X_i)^2}{2\\sigma^2}\\Big)}$$\n",
    "<br>"
   ]
  },
  {
   "cell_type": "markdown",
   "metadata": {
    "slideshow": {
     "slide_type": "fragment"
    }
   },
   "source": [
    "* Prior distribution (multivariate Gaussian)\n",
    "<br>\n",
    "$$p(W | C) = \\mathcal{N}_{M-1}(W | 0,C) = \\frac{1}{\\sqrt{2\\pi^{M-1}|C|}}\\exp{\\Big( -\\frac{1}{2}W^{\\top}C^{-1}W\\Big)},\\quad \\text{where}\\quad C = \\beta^{-1}\\mathbb{I}_{M-1}$$"
   ]
  },
  {
   "cell_type": "markdown",
   "metadata": {
    "slideshow": {
     "slide_type": "slide"
    }
   },
   "source": [
    "### Bayesian linear regression graphical model\n",
    "<hr>\n",
    "\n",
    "* Graphical notation\n",
    "<br>\n",
    "<img src='B_Lr.png' width=800>"
   ]
  },
  {
   "cell_type": "markdown",
   "metadata": {
    "slideshow": {
     "slide_type": "slide"
    }
   },
   "source": [
    "* Likelihood of the data:\n",
    "<br>\n",
    "$$\\large{p(\\{y_n\\}_{n=1}^N | \\{X_n\\}_{n=1}^N, W, \\sigma^2) \\propto \\exp{\\bigg(-\\frac{1}{2\\sigma^2}\\sum_{n=1}^N \\Big( y_{n} - W^{\\top}X_n\\Big)^2 \\bigg)}}$$"
   ]
  },
  {
   "cell_type": "markdown",
   "metadata": {
    "slideshow": {
     "slide_type": "fragment"
    }
   },
   "source": [
    "* Matrix form:\n",
    "<br>\n",
    "$$\\large{p(\\mathcal{D}|W,\\sigma^2) \\propto \\exp{\\Big( -\\frac{|| Y - XW ||^2_{Fro}}{2\\sigma^2}\\Big)}}$$\n",
    "<br>\n",
    "* Where\n",
    "$$\\large{ Y \\in \\mathbb{R}^N, \\quad X \\in \\mathbb{R}^{(N,M-1)},\\quad W \\in \\mathbb{R}^{M-1}}$$\n",
    "\n",
    "$\\textbf{Note:}\\quad ||X||_{Fro} = \\sqrt{tr(X^{\\top}X)}$"
   ]
  },
  {
   "cell_type": "markdown",
   "metadata": {
    "slideshow": {
     "slide_type": "slide"
    }
   },
   "source": [
    "### Linear regression can be performed analytically\n",
    "<hr>\n",
    "\n",
    "* Posterior\n",
    "$$\\large{\n",
    "p(W | \\mathcal{D}, \\sigma^2, C) \\sim \\mathcal{N}(W | \\hat{W}, \\hat{\\Sigma})\\ \\propto \\ \\exp{\\bigg( -\\frac{(W - \\hat{W})^{\\top}\\hat\\Sigma^{-1}(W - \\hat{W})}{2}\\bigg),}\n",
    "}$$"
   ]
  },
  {
   "cell_type": "markdown",
   "metadata": {
    "slideshow": {
     "slide_type": "fragment"
    }
   },
   "source": [
    "<br>\n",
    "* Where:\n",
    "<br>\n",
    "$$\\boxed{\\large{\\hat{W} = \\frac{\\hat{\\Sigma} X^{\\top}y}{\\sigma^2}, \\quad \\hat\\Sigma = \\sigma^2\\Big( X^{\\top}X + \\sigma^2C^{-1}\\Big)^{-1} }}$$"
   ]
  },
  {
   "cell_type": "markdown",
   "metadata": {
    "slideshow": {
     "slide_type": "slide"
    }
   },
   "source": [
    "### Predictive linear regression \n",
    "<hr>\n",
    "* Predictive distribution for a new sample pair $\\large{(x^{*},y^{*})}$\n",
    "<br><br>\n",
    "$$\\large{\n",
    "p(y^* | x^*, \\mathcal{D}, \\sigma^2, C) \\sim \\mathcal{N}(y^{*} | \\hat{y}, \\hat\\sigma^2_y)\\ \\propto \\ \\exp{\\bigg( -\\frac{(y^* - \\hat{y})^2}{2\\hat{\\sigma}_y^2} \\bigg)} \n",
    "}$$"
   ]
  },
  {
   "cell_type": "markdown",
   "metadata": {
    "slideshow": {
     "slide_type": "skip"
    }
   },
   "source": [
    "$\\newcommand{\\xstr}{x^*}$\n",
    "$\\newcommand{\\xTstr}{x^{*^{\\top}}}$"
   ]
  },
  {
   "cell_type": "markdown",
   "metadata": {
    "slideshow": {
     "slide_type": "fragment"
    }
   },
   "source": [
    "* Where:\n",
    "\n",
    "$$\\boxed{\\large{\n",
    "\\hat{y} = \\frac{ \\xTstr \\Big(X^{\\top}X + \\xstr\\xTstr + \\sigma^2C^{-1}\\Big)^{-1}X^{\\top}y  }{ 1 - \\xTstr \\Big(X^{\\top}X + \\xstr\\xTstr + \\sigma^2C^{-1}\\Big)^{-1}\\xstr}\n",
    "}}$$\n"
   ]
  },
  {
   "cell_type": "markdown",
   "metadata": {
    "slideshow": {
     "slide_type": "fragment"
    }
   },
   "source": [
    "$$\\boxed{\\large{\n",
    "\\hat{\\sigma}^2_y = \\frac{\\sigma^2}{1 - \\xTstr\\Big(X^{\\top}X + \\xstr\\xTstr + \\sigma^2C^{-1} \\Big)^{-1} \\xstr}\n",
    "}}$$"
   ]
  },
  {
   "cell_type": "markdown",
   "metadata": {
    "slideshow": {
     "slide_type": "slide"
    }
   },
   "source": [
    "### Marginal for linear regression observarions\n",
    "<hr>\n",
    "\n",
    "* Marginal\n",
    "\n",
    "$$\\large{\n",
    "p(Y | X, \\sigma^2, C) = \\frac{\\exp{\\bigg( -\\frac{||Y||^2 - Y^{\\top}X\\Big(X^{\\top}X + \\sigma^2C^{-1}\\Big)^{-1}X^{\\top}y}{2\\sigma^2}\\bigg)}}{\\sqrt{(2\\pi\\sigma^2)^N}\\text{det}\\Big[CX^{\\top}X + \\sigma^2\\mathbb{I}_{M}\\Big]^{\\frac{1}{2}}}\n",
    "}$$\n"
   ]
  },
  {
   "cell_type": "markdown",
   "metadata": {
    "slideshow": {
     "slide_type": "slide"
    }
   },
   "source": [
    "### Bayesian free energy (robust marginal)\n",
    "\n",
    "<br>\n",
    "* Bayesian free energy is just minus log of the marginal\n",
    "<br><br>\n",
    "$$\\large{\n",
    "2F^{\\text{Bayes}} = -2\\ln p(Y | X, \\sigma^2, C) \\\\ =  N \\ln{(2\\pi\\sigma^2)} + \\ln\\text{det}\\Big[CX^{\\top}X + \\sigma^2\\mathbb{I}_{M}  \\Big] + \\frac{||Y||^2 - Y^{\\top}X\\Big(X^{\\top}X + \\sigma^2C^{-1}\\Big)^{-1}X^{\\top}y}{\\sigma^2}\n",
    "}$$"
   ]
  },
  {
   "cell_type": "markdown",
   "metadata": {
    "slideshow": {
     "slide_type": "slide"
    }
   },
   "source": [
    "### Bayesian model selection\n",
    "<hr>\n",
    "<center>\n",
    "<img src='Bsel.png' width=1000>\n",
    "</center>\n",
    "<br>\n",
    "* Probability that the _true_ model degree is $\\large{M-1}$\n",
    "<br><br>\n",
    "$$\\large{\n",
    "p(M | X, Y) \\propto p(Y| X,M)p(M)\n",
    "}$$\n"
   ]
  },
  {
   "cell_type": "markdown",
   "metadata": {
    "slideshow": {
     "slide_type": "fragment"
    }
   },
   "source": [
    "<br>\n",
    "* Marginal likelihood as a model selection criterion (MAP under $p(M) \\propto 1$)\n",
    "\n",
    "$$\\boxed{\\large{\\hat{M} = \\text{argmin}_{M} 2 F^{\\text{Bayes}}}}$$"
   ]
  },
  {
   "cell_type": "markdown",
   "metadata": {
    "slideshow": {
     "slide_type": "slide"
    }
   },
   "source": [
    "### Empirical Bayesian learning\n",
    "\n",
    "* Model selection = hyperparameter optimization\n",
    "\n",
    "$$\\boxed{\\large{(\\hat{C}, \\hat{\\sigma}^2) = \\text{argmin}_{\\hat{C},\\hat{\\sigma}^2} 2F^{\\text{Bayes}}(\\sigma^2,C)}}$$\n",
    "\n"
   ]
  },
  {
   "cell_type": "markdown",
   "metadata": {
    "slideshow": {
     "slide_type": "fragment"
    }
   },
   "source": [
    "* Sparce Bayesian Learning\n",
    "\n",
    "$$\\large{C = \\text{diag}(c_1^2, \\dots, c_M^2)}$$\n",
    "\n",
    "$$\\large{c_m^2 \\rightarrow +0\\quad (\\text{and hence}\\ w_m^2 = 0 )\\  \\text{if}\\ x^m\\ \\text{is not useful to explain } Y}$$"
   ]
  }
 ],
 "metadata": {
  "celltoolbar": "Slideshow",
  "kernelspec": {
   "display_name": "Python 3",
   "language": "python",
   "name": "python3"
  },
  "language_info": {
   "codemirror_mode": {
    "name": "ipython",
    "version": 3
   },
   "file_extension": ".py",
   "mimetype": "text/x-python",
   "name": "python",
   "nbconvert_exporter": "python",
   "pygments_lexer": "ipython3",
   "version": "3.7.4"
  }
 },
 "nbformat": 4,
 "nbformat_minor": 2
}
