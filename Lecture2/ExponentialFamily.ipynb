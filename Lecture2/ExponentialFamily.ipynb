{
 "cells": [
  {
   "cell_type": "markdown",
   "metadata": {
    "slideshow": {
     "slide_type": "slide"
    }
   },
   "source": [
    " # The Exponential Family "
   ]
  },
  {
   "cell_type": "markdown",
   "metadata": {
    "slideshow": {
     "slide_type": "skip"
    }
   },
   "source": [
    "$\\require{color}$\n",
    "$\\newcommand{\\ceta}{{\\color{red}\\bf{\\eta}}}$\n",
    "$\\newcommand{\\hx}{{\\color{black}h(}\\bf{x}{\\color{black})}}$\n",
    "$\\newcommand{\\geta}{{\\color{green}g(}\\bf{\\ceta}{\\color{green})}}$\n",
    "$\\newcommand{\\ux}{{\\color{blue}u(}\\bf{x}{\\color{blue})}}$\n",
    "$\\newcommand{\\Aeta}{{\\color{green}A(}\\bf{\\ceta}{\\color{green})}}$\n",
    "$\\newcommand{\\Bigl}{\\Big\\{}$\n",
    "$\\newcommand{\\Bigr}{\\Big\\}}$\n",
    "$\\newcommand{\\trd}{\\triangledown}$"
   ]
  },
  {
   "cell_type": "markdown",
   "metadata": {
    "slideshow": {
     "slide_type": "slide"
    }
   },
   "source": [
    "* Any distribution from the exponential family can be represented in the following form:\n",
    "<hr>\n",
    "\n",
    "$$\\boxed{\\large{p( \\bf{x} | \\ceta) } = \\hx \\geta \\exp{\\Bigl \\ceta^{\\top} \\ux \\Bigr\n",
    "}}$$"
   ]
  },
  {
   "cell_type": "markdown",
   "metadata": {
    "slideshow": {
     "slide_type": "fragment"
    }
   },
   "source": [
    "or\n",
    "$$\\large{p( \\bf{x} | \\ceta) } = \\hx\\exp{\\Bigl \\ceta^{\\top} \\ux - \\Aeta\\Bigr,\\ \\textit{where}\n",
    "}$$<br>\n",
    "$$\\large{ \\Aeta  = -\\ln{\\geta} \n",
    "}$$"
   ]
  },
  {
   "cell_type": "markdown",
   "metadata": {
    "slideshow": {
     "slide_type": "slide"
    }
   },
   "source": [
    "$$\\large{p( \\bf{x} | \\ceta) } = \\hx \\geta \\exp{\\Bigl \\ceta^{\\top} \\ux\\Bigr\n",
    "}$$"
   ]
  },
  {
   "cell_type": "markdown",
   "metadata": {
    "slideshow": {
     "slide_type": "fragment"
    }
   },
   "source": [
    "* $\\large{\\ceta - \\textit{natural parameters}}\\ \\text{of  the distribution}\\\\ (\\text{ scalar, vector, descrete or continuous})$"
   ]
  },
  {
   "cell_type": "markdown",
   "metadata": {
    "slideshow": {
     "slide_type": "fragment"
    }
   },
   "source": [
    "* $\\large{\\ux} - \\textit{sufficient statistics}\\ \\text{function}$"
   ]
  },
  {
   "cell_type": "markdown",
   "metadata": {
    "slideshow": {
     "slide_type": "fragment"
    }
   },
   "source": [
    "* $\\large{\\hx} - \\textit{function of}\\ \\bf{x}$"
   ]
  },
  {
   "cell_type": "markdown",
   "metadata": {
    "slideshow": {
     "slide_type": "slide"
    }
   },
   "source": [
    "* $\\large{ \\geta} - \\textit{normalization factor}$\n",
    "<br><br>\n",
    "$$\\large{ \\int p( \\bf{x} | \\ceta)\\ dx } = \\geta\\int{\\underbrace{\\hx\\exp{\\Big\\{ \\ceta^{\\top} \\ux \\Big\\}\\ dx}}_{{\\geta}^{-1}} = 1\n",
    "}$$"
   ]
  },
  {
   "cell_type": "markdown",
   "metadata": {
    "slideshow": {
     "slide_type": "slide"
    }
   },
   "source": [
    "### Example Bernoulli distribution\n",
    "<hr>\n",
    "\n",
    "$$\\large{\\text{Bern}(x|\\theta) = \\theta^x(1-\\theta)^{1-x}}$$"
   ]
  },
  {
   "cell_type": "markdown",
   "metadata": {
    "slideshow": {
     "slide_type": "fragment"
    }
   },
   "source": [
    "$${p(x|\\theta) = \\exp{\\Big\\{ x\\ln{\\theta} + (1-x)\\ln{(1 - \\theta)} \\Big\\}} = \\exp{\\Big\\{ x\\ln{\\theta} -x\\ln{(1 - \\theta)} + \\ln{(1 - \\theta)} \\Big\\}}\n",
    "}$$"
   ]
  },
  {
   "cell_type": "markdown",
   "metadata": {
    "slideshow": {
     "slide_type": "fragment"
    }
   },
   "source": [
    "$${p(x|\\theta) = \\exp{\\Big\\{ \\underbrace{\\ln{\\Big(\\frac{\\theta}{1 - \\theta}\\Big)}}_{\\ceta}\\overbrace{x}^{\\ux} + \\underbrace{\\ln{(1-\\theta)}}_{-A(\\theta)} \\Big\\}}  = \\underbrace{(1 - \\theta)}_{g(\\ceta)?} \\exp{\\Big\\{ \\ceta^{\\top} \\ \\overbrace{x}^{\\ux} \\Big\\}}\n",
    "}$$"
   ]
  },
  {
   "cell_type": "markdown",
   "metadata": {
    "slideshow": {
     "slide_type": "slide"
    }
   },
   "source": [
    "### Example Bernoulli distribution\n",
    "<hr>\n",
    "\n",
    "* Solve for $\\theta$\n",
    "\n",
    "$$\\ceta = \\ln{\\Big(\\frac{\\theta}{1-\\theta}\\Big)} \\Rightarrow  -\\ceta = \\ln{\\Big(\\frac{1-\\theta}{\\theta}\\Big)} \\Rightarrow \\exp{(-\\ceta)} = \\frac{1-\\theta}{\\theta} $$\n",
    "<br>"
   ]
  },
  {
   "cell_type": "markdown",
   "metadata": {
    "slideshow": {
     "slide_type": "fragment"
    }
   },
   "source": [
    "$$\\theta\\exp{(-\\ceta)} = (1-\\theta)  \\Rightarrow \\theta\\Big(\\exp{(-\\ceta)} + 1\\Big) = 1$$\n",
    "<br>"
   ]
  },
  {
   "cell_type": "markdown",
   "metadata": {
    "slideshow": {
     "slide_type": "fragment"
    }
   },
   "source": [
    "$$\\boxed{ \\theta = \\frac{1}{ 1 + \\exp{(-\\ceta)}}  = \\sigma(\\ceta) \\leftarrow \\ \\textit{sigmoid function}} $$"
   ]
  },
  {
   "cell_type": "markdown",
   "metadata": {
    "slideshow": {
     "slide_type": "slide"
    }
   },
   "source": [
    "### Example Bernoulli distribution\n",
    "<hr>\n",
    "\n",
    "* Normalization factor $g(\\theta)$ as a function of $\\eta$\n",
    "\n",
    "$$g(\\theta) = 1 - \\theta = 1 - \\frac{1}{ 1 + \\exp{(-\\eta)}} = \\frac{\\exp{(-\\ceta)}}{1 + \\exp{(-\\ceta)}} $$\n",
    "<br>\n",
    "\n",
    "$$g(\\ceta) = \\frac{1}{1 + \\exp{(\\ceta)}} = \\sigma(-\\ceta) $$ "
   ]
  },
  {
   "cell_type": "markdown",
   "metadata": {
    "slideshow": {
     "slide_type": "slide"
    }
   },
   "source": [
    "### Example Bernoulli distribution\n",
    "<hr>\n",
    "\n",
    "$$\\boxed{\\large{p( \\bf{x} | \\bf{\\ceta}) } = \\text{Bern}(\\bf{x}|\\ceta) = \\sigma(\\bf{-\\ceta})\\exp{\\Bigl \\bf{\\ceta}\\ \\bf{x}\\Bigr}, \\quad \\bf{\\ceta} = \\ln{\\Big(\\frac{\\theta}{1-\\theta}\\Big)}}$$\n"
   ]
  },
  {
   "cell_type": "markdown",
   "metadata": {
    "slideshow": {
     "slide_type": "fragment"
    }
   },
   "source": [
    "<br>\n",
    "$$\n",
    "\\large{p( \\bf{x} | \\bf{\\eta}) } = \\underbrace{\\hx}_{1}\\underbrace{\\geta}_{\\sigma(-\\ceta)}\\exp{\\Bigl \\underbrace{\\bf{\\ceta}^{\\top}}_{\\bf{\\ceta}} \\underbrace{\\ux}_{\\bf{x}}\\Bigr\n",
    "}\n",
    "$$"
   ]
  },
  {
   "cell_type": "markdown",
   "metadata": {
    "slideshow": {
     "slide_type": "slide"
    }
   },
   "source": [
    "## Maximum likelihood and sufficient statistics\n",
    "\n",
    "* Let's estimate the $\\textit{natural parameter}\\ \\large{\\ceta}$ using the technique of maximum likelihood estimation in $\\textit{exponential}$ family form. \n",
    "\n",
    "$$\\boxed{\\large{\\trd_{\\ceta} \\int p(\\bf{x}|\\ceta)\\ dx = \\trd_{\\ceta}\\bigg(\\geta\\int h(x)\\exp{\\Bigl \\ceta^{\\top}\\ux \\Bigr}\\ dx \\bigg) = 0}}$$\n",
    "\n",
    " $$\\text{Note:}\\ \\trd_x \\Big((f(x)g(x)\\Big) = \\Big(\\trd_x f(x)\\Big)g(x) + f(x)\\Big(\\trd_x g(x)\\Big)$$\n",
    "\n"
   ]
  },
  {
   "cell_type": "markdown",
   "metadata": {
    "slideshow": {
     "slide_type": "slide"
    }
   },
   "source": [
    "* Take derivative wrt to $\\ceta$\n",
    "\n",
    "$$\\large{\n",
    "\\trd_{\\ceta} g(\\bf{\\ceta})\\underbrace{\\int \\hx\\exp{\\Bigl \\ceta^{\\top}\\ux \\Bigr}\\ dx}_{{\\geta}^{-1}} + \\overbrace{\\int \\underbrace{g(\\ceta) h(x)\\exp{\\Bigl \\ceta^{\\top} \\ux \\Bigr}}_{p(x|\\ceta)}\\ux}^{\\mathbb{E}[\\ux]} = 0\n",
    "}$$\n",
    "\n",
    "$$\\text{Note}: \\mathbb{E}[f(x)]_{x \\sim p(x)} = \\int p(x) f(x) dx$$"
   ]
  },
  {
   "cell_type": "markdown",
   "metadata": {
    "slideshow": {
     "slide_type": "slide"
    }
   },
   "source": [
    "### Expected value of the sufficient statistics \n",
    "\n",
    "$$\n",
    "\\boxed{\\large{\\mathbb{E}[\\bf{\\ux}] = -\\frac{\\trd_{\\ceta}{\\geta}}{\\geta} = -\\trd_{\\ceta}\\ln{\\geta}}}\n",
    "$$ "
   ]
  },
  {
   "cell_type": "markdown",
   "metadata": {
    "slideshow": {
     "slide_type": "fragment"
    }
   },
   "source": [
    "* Expectation of the higher orders\n",
    "$$\n",
    "\\boxed{\\large{\\mathbb{E}[\\bf{\\ux^{n}}] = -\\trd_{\\ceta}^{n}\\ln{\\geta}}}\n",
    "$$ "
   ]
  },
  {
   "cell_type": "markdown",
   "metadata": {
    "slideshow": {
     "slide_type": "slide"
    }
   },
   "source": [
    "#### Example Bernoulli distribution\n",
    "\n",
    "* Mean value\n",
    "\n",
    "$$\\large{\\mathbb{E}[x] = -\\trd_{\\ceta}\\ln{\\sigma(-\\ceta)}}= -\\trd_{\\ceta} \\ln\\Big({\\frac{1}{1 + \\exp(\\ceta)}\\Big)} = \\trd_{\\ceta}\\ln(1 + \\exp{(\\ceta)})=\\sigma(-\\ceta) = 1-\\theta$$ "
   ]
  },
  {
   "cell_type": "markdown",
   "metadata": {
    "slideshow": {
     "slide_type": "fragment"
    }
   },
   "source": [
    "* Variance\n",
    "\n",
    "$$\\large{\\mathbb{E}[x^2]} = -\\trd_{\\ceta}^2\\ln{\\sigma(-\\ceta) = \\trd_{\\ceta}(1+\\exp{(-\\ceta)})^{-1} = \\underbrace{\\frac{1}{1+\\exp{(-\\ceta)}}}_{\\sigma(\\ceta) = \\theta}\\underbrace{\\frac{\\exp{(-\\ceta)}}{(1 + \\exp(-\\ceta))}}_{1 - \\sigma(\\ceta)} = \\theta(1-\\theta)\n",
    "}$$"
   ]
  },
  {
   "cell_type": "markdown",
   "metadata": {
    "slideshow": {
     "slide_type": "slide"
    }
   },
   "source": [
    "### Maximum likelihood solution\n",
    "\n",
    "* Suppose $X = \\{ x_1, x_2, \\dots, x_N \\}$\n",
    "\n",
    "$$ \\large{p(X | \\ceta) = \\Big(\\prod_{i=1}^N h(x_i) \\Big) \\geta^N \\exp{\\Bigl \\ceta^{\\top}\\sum_{i=1}^N \\ux \\Bigr}\n",
    "}$$"
   ]
  },
  {
   "cell_type": "markdown",
   "metadata": {
    "slideshow": {
     "slide_type": "fragment"
    }
   },
   "source": [
    "* Setting the gradient of $\\large{\\ln p(X | \\ceta)}$ wrt $\\large\\ceta$ to zero, we get:\n",
    "\n",
    "$$\\large{ -\\trd_{\\ceta}\\ln{g(\\ceta_{\\small\\text{ML}})} = \\frac{1}{N}\\sum_{i=1}^N {{\\color{blue}\\bf u(}x_i\\color{blue})}\n",
    "}$$ "
   ]
  },
  {
   "cell_type": "markdown",
   "metadata": {
    "slideshow": {
     "slide_type": "fragment"
    }
   },
   "source": [
    "* We see that the ML solution depends on the data only through $\\sum_{i=1}^N \\bf\\ux$, therefore $\\bf\\ux$ is called _sufficient statistics_."
   ]
  },
  {
   "cell_type": "markdown",
   "metadata": {
    "slideshow": {
     "slide_type": "slide"
    }
   },
   "source": [
    "### Conjugate priors\n",
    "\n",
    "* For **any** member of the exponential family there is a _conjugate_ prior in a form:\n",
    "\n",
    "$$\\large{\n",
    "p(\\ceta | \\chi, \\nu) = f(\\chi,\\nu)\\geta^{\\nu}\\exp{\\Bigl \\nu\\ceta^{\\top}\\chi \\Bigr}\n",
    "}$$"
   ]
  },
  {
   "cell_type": "markdown",
   "metadata": {
    "slideshow": {
     "slide_type": "slide"
    }
   },
   "source": [
    "* Posterior distribution is then can be expressed as: \n",
    "\n",
    "$$\\large{\n",
    "p(\\ceta | X, \\chi,\\nu) \\propto g(\\ceta)^{N+\\nu} \\exp{\\Bigl \\ceta^{\\top}\\Big( \\sum_{i=1}^N {\\color{blue}\\bf u(}x_i\\color{blue}) \\Big)\\Bigr}\n",
    "}$$\n",
    "\n",
    "* It takes the **same** functional form as the prior."
   ]
  }
 ],
 "metadata": {
  "celltoolbar": "Slideshow",
  "kernelspec": {
   "display_name": "Python 3",
   "language": "python",
   "name": "python3"
  },
  "language_info": {
   "codemirror_mode": {
    "name": "ipython",
    "version": 3
   },
   "file_extension": ".py",
   "mimetype": "text/x-python",
   "name": "python",
   "nbconvert_exporter": "python",
   "pygments_lexer": "ipython3",
   "version": "3.7.3"
  }
 },
 "nbformat": 4,
 "nbformat_minor": 2
}
